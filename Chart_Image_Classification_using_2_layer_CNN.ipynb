{
  "nbformat": 4,
  "nbformat_minor": 0,
  "metadata": {
    "kernelspec": {
      "display_name": "Python 3.7.6 64-bit ('base': conda)",
      "language": "python",
      "name": "python37664bitbaseconda7483b56708654138a70e5a3bc4c71f81"
    },
    "language_info": {
      "codemirror_mode": {
        "name": "ipython",
        "version": 3
      },
      "file_extension": ".py",
      "mimetype": "text/x-python",
      "name": "python",
      "nbconvert_exporter": "python",
      "pygments_lexer": "ipython3",
      "version": "3.7.6"
    },
    "colab": {
      "name": "Chart Image Classification using 2 layer CNN.ipynb",
      "provenance": [],
      "collapsed_sections": [
        "POvghijbi6V0",
        "lgVBGj2_jdym",
        "F8xG7V8RnhwA",
        "H8KUrRm5iu-4",
        "pT3aTSmhrGw8",
        "nyW2CdmqrK2n",
        "ZkrKTLQqrbl4",
        "6KCOsZNbr-NB",
        "CS7Z8z-frhwd",
        "h46rmsdQtZgD",
        "Cgk8svc4E1HO",
        "tU6DdoTSEG3u",
        "0oxHxNhuGoSv",
        "bj4Cn24DCW3Q"
      ],
      "include_colab_link": true
    }
  },
  "cells": [
    {
      "cell_type": "markdown",
      "metadata": {
        "id": "view-in-github",
        "colab_type": "text"
      },
      "source": [
        "<a href=\"https://colab.research.google.com/github/neeluvermaiitj/Deep-Learning/blob/main/Chart_Image_Classification_using_2_layer_CNN.ipynb\" target=\"_parent\"><img src=\"https://colab.research.google.com/assets/colab-badge.svg\" alt=\"Open In Colab\"/></a>"
      ]
    },
    {
      "cell_type": "markdown",
      "metadata": {
        "id": "POvghijbi6V0"
      },
      "source": [
        "# **Question 4.**"
      ]
    },
    {
      "cell_type": "markdown",
      "metadata": {
        "id": "wB8v3-6ei_TR"
      },
      "source": [
        "You have to develop a CNN based classi\fcation architecture for clas-\n",
        "sifying a given chart image to one of \fve chart classes, namely \\Line\",\\Dot Line\",\\Horizontal\n",
        "Bar\",\\Vertical Bar\", and \\Pie\" chart.\n",
        "\n",
        "Task 0: Learn how CNN is implemented for image classi\fcation in PyTorch from the fol-\n",
        "lowing blog:\n",
        "PyTorch CNN example\n",
        "\n",
        "**Task 1:** Download the dataset from drive link given below.\n",
        "Dataset link\n",
        "Use train and val images for training and validation in an appropriate ratio (e.g., 80%\n",
        "for training and 20 % for validating). The CSV \fle contains corresponding labels for the\n",
        "images. TA shall provide dataloader code.\n",
        "**Task 2:** Implement a two-layer Convolutional Neural Network. (Hint: use learning from\n",
        "Task-0), and calculate accuracy, loss and plot the obtained loss. Brie\n",
        "y write your obser-\n",
        "vation and submit your code so that we can evaluate your implementation at our end. (30\n",
        "points)"
      ]
    },
    {
      "cell_type": "markdown",
      "metadata": {
        "id": "lgVBGj2_jdym"
      },
      "source": [
        "# Setting the Data Set `path variable` (IMPORTANT)"
      ]
    },
    {
      "cell_type": "markdown",
      "metadata": {
        "id": "t3A2cpRejhRw"
      },
      "source": [
        "Please update this path for **`CHART`** dataset\n"
      ]
    },
    {
      "cell_type": "code",
      "metadata": {
        "id": "kToQk_d_jnd-",
        "colab": {
          "base_uri": "https://localhost:8080/",
          "height": 34
        },
        "outputId": "a6b9c122-92b3-41fc-d61c-71089f6b068c"
      },
      "source": [
        "from google.colab import drive\n",
        "drive.mount('/content/drive')"
      ],
      "execution_count": null,
      "outputs": [
        {
          "output_type": "stream",
          "text": [
            "Drive already mounted at /content/drive; to attempt to forcibly remount, call drive.mount(\"/content/drive\", force_remount=True).\n"
          ],
          "name": "stdout"
        }
      ]
    },
    {
      "cell_type": "code",
      "metadata": {
        "id": "ypfzoVLhj_NN"
      },
      "source": [
        "chart_data_path = \"/content/drive/My Drive/ML_Assignment_5/charts\"                # Update this variable with the exact path for CHART dataset"
      ],
      "execution_count": null,
      "outputs": []
    },
    {
      "cell_type": "markdown",
      "metadata": {
        "id": "F8xG7V8RnhwA"
      },
      "source": [
        "# Importing the modules"
      ]
    },
    {
      "cell_type": "markdown",
      "metadata": {
        "id": "xXvmzG6Insoi"
      },
      "source": [
        "Importing all the modules "
      ]
    },
    {
      "cell_type": "code",
      "metadata": {
        "id": "hgdqNpm3iu-0"
      },
      "source": [
        "# importing the libraries\n",
        "import pandas as pd\n",
        "import numpy as np\n",
        "\n",
        "# for reading and displaying images\n",
        "from skimage.io import imread\n",
        "import matplotlib.pyplot as plt\n",
        "%matplotlib inline\n",
        "\n",
        "# for creating validation set\n",
        "from sklearn.model_selection import train_test_split\n",
        "\n",
        "# for evaluating the model\n",
        "from sklearn.metrics import accuracy_score\n",
        "from tqdm import tqdm\n",
        "\n",
        "# PyTorch libraries and modules\n",
        "import torch\n",
        "from torch.autograd import Variable\n",
        "from torch.nn import Linear, ReLU, CrossEntropyLoss, Sequential, Conv2d, MaxPool2d, Module, Softmax, BatchNorm2d, Dropout\n",
        "from torch.optim import Adam, SGD\n",
        "\n",
        "import random\n",
        "import os\n",
        "import pathlib\n"
      ],
      "execution_count": null,
      "outputs": []
    },
    {
      "cell_type": "markdown",
      "metadata": {
        "id": "H8KUrRm5iu-4"
      },
      "source": [
        "# Loading the dataset\n"
      ]
    },
    {
      "cell_type": "markdown",
      "metadata": {
        "id": "O42T0uJmoqNK"
      },
      "source": [
        "## Loading the `class labels`"
      ]
    },
    {
      "cell_type": "code",
      "metadata": {
        "scrolled": true,
        "id": "TFzq_bfTiu-4",
        "colab": {
          "base_uri": "https://localhost:8080/",
          "height": 202
        },
        "outputId": "bda03359-6f0e-4915-b4a1-d8e1a6f9c535"
      },
      "source": [
        "# loading dataset\n",
        "train_val_file_name = os.path.join(chart_data_path, 'train_val.csv')\n",
        "train_val = pd.read_csv(train_val_file_name)\n",
        "\n",
        "train_val.head()"
      ],
      "execution_count": null,
      "outputs": [
        {
          "output_type": "execute_result",
          "data": {
            "text/html": [
              "<div>\n",
              "<style scoped>\n",
              "    .dataframe tbody tr th:only-of-type {\n",
              "        vertical-align: middle;\n",
              "    }\n",
              "\n",
              "    .dataframe tbody tr th {\n",
              "        vertical-align: top;\n",
              "    }\n",
              "\n",
              "    .dataframe thead th {\n",
              "        text-align: right;\n",
              "    }\n",
              "</style>\n",
              "<table border=\"1\" class=\"dataframe\">\n",
              "  <thead>\n",
              "    <tr style=\"text-align: right;\">\n",
              "      <th></th>\n",
              "      <th>image_index</th>\n",
              "      <th>type</th>\n",
              "    </tr>\n",
              "  </thead>\n",
              "  <tbody>\n",
              "    <tr>\n",
              "      <th>0</th>\n",
              "      <td>0</td>\n",
              "      <td>vbar_categorical</td>\n",
              "    </tr>\n",
              "    <tr>\n",
              "      <th>1</th>\n",
              "      <td>1</td>\n",
              "      <td>vbar_categorical</td>\n",
              "    </tr>\n",
              "    <tr>\n",
              "      <th>2</th>\n",
              "      <td>2</td>\n",
              "      <td>vbar_categorical</td>\n",
              "    </tr>\n",
              "    <tr>\n",
              "      <th>3</th>\n",
              "      <td>3</td>\n",
              "      <td>vbar_categorical</td>\n",
              "    </tr>\n",
              "    <tr>\n",
              "      <th>4</th>\n",
              "      <td>4</td>\n",
              "      <td>vbar_categorical</td>\n",
              "    </tr>\n",
              "  </tbody>\n",
              "</table>\n",
              "</div>"
            ],
            "text/plain": [
              "   image_index              type\n",
              "0            0  vbar_categorical\n",
              "1            1  vbar_categorical\n",
              "2            2  vbar_categorical\n",
              "3            3  vbar_categorical\n",
              "4            4  vbar_categorical"
            ]
          },
          "metadata": {
            "tags": []
          },
          "execution_count": 6
        }
      ]
    },
    {
      "cell_type": "code",
      "metadata": {
        "id": "Wn3uAyVKiu-7",
        "colab": {
          "base_uri": "https://localhost:8080/",
          "height": 34
        },
        "outputId": "8b493984-66c1-4942-d39d-a1b8420b9e06"
      },
      "source": [
        "# encoding the class labels \n",
        "labels = train_val.type.astype('category')\n",
        "label_hash = dict(enumerate(labels.cat.categories))\n",
        "\n",
        "train_val[\"type\"] = train_val[\"type\"].astype('category')\n",
        "train_val[\"type\"] = train_val[\"type\"].cat.codes\n",
        "\n",
        "print (label_hash)"
      ],
      "execution_count": null,
      "outputs": [
        {
          "output_type": "stream",
          "text": [
            "{0: 'dot_line', 1: 'hbar_categorical', 2: 'line', 3: 'pie', 4: 'vbar_categorical'}\n"
          ],
          "name": "stdout"
        }
      ]
    },
    {
      "cell_type": "code",
      "metadata": {
        "id": "lmAPGACIiu_C",
        "colab": {
          "base_uri": "https://localhost:8080/",
          "height": 202
        },
        "outputId": "7b5c1328-2ba6-4035-9b91-207b18b2fa40"
      },
      "source": [
        "train_val.head()"
      ],
      "execution_count": null,
      "outputs": [
        {
          "output_type": "execute_result",
          "data": {
            "text/html": [
              "<div>\n",
              "<style scoped>\n",
              "    .dataframe tbody tr th:only-of-type {\n",
              "        vertical-align: middle;\n",
              "    }\n",
              "\n",
              "    .dataframe tbody tr th {\n",
              "        vertical-align: top;\n",
              "    }\n",
              "\n",
              "    .dataframe thead th {\n",
              "        text-align: right;\n",
              "    }\n",
              "</style>\n",
              "<table border=\"1\" class=\"dataframe\">\n",
              "  <thead>\n",
              "    <tr style=\"text-align: right;\">\n",
              "      <th></th>\n",
              "      <th>image_index</th>\n",
              "      <th>type</th>\n",
              "    </tr>\n",
              "  </thead>\n",
              "  <tbody>\n",
              "    <tr>\n",
              "      <th>0</th>\n",
              "      <td>0</td>\n",
              "      <td>4</td>\n",
              "    </tr>\n",
              "    <tr>\n",
              "      <th>1</th>\n",
              "      <td>1</td>\n",
              "      <td>4</td>\n",
              "    </tr>\n",
              "    <tr>\n",
              "      <th>2</th>\n",
              "      <td>2</td>\n",
              "      <td>4</td>\n",
              "    </tr>\n",
              "    <tr>\n",
              "      <th>3</th>\n",
              "      <td>3</td>\n",
              "      <td>4</td>\n",
              "    </tr>\n",
              "    <tr>\n",
              "      <th>4</th>\n",
              "      <td>4</td>\n",
              "      <td>4</td>\n",
              "    </tr>\n",
              "  </tbody>\n",
              "</table>\n",
              "</div>"
            ],
            "text/plain": [
              "   image_index  type\n",
              "0            0     4\n",
              "1            1     4\n",
              "2            2     4\n",
              "3            3     4\n",
              "4            4     4"
            ]
          },
          "metadata": {
            "tags": []
          },
          "execution_count": 8
        }
      ]
    },
    {
      "cell_type": "markdown",
      "metadata": {
        "id": "lD0AooDuo3Q7"
      },
      "source": [
        "## Loading the images and converting into `numpy array`"
      ]
    },
    {
      "cell_type": "code",
      "metadata": {
        "scrolled": true,
        "id": "h34eDz3Ciu_E",
        "colab": {
          "base_uri": "https://localhost:8080/",
          "height": 52
        },
        "outputId": "c778b43b-cea5-41fb-92f8-6474c590d289"
      },
      "source": [
        "# loading training images\n",
        "train_img = []\n",
        "train_val_img_dir = os.path.join(chart_data_path, 'train_val')\n",
        "\n",
        "for img_name in tqdm(train_val['image_index']):\n",
        "    # defining the image path\n",
        "    i_name = str(img_name) + '.png'\n",
        "    image_path = os.path.join(train_val_img_dir, i_name)\n",
        "\n",
        "    # reading the image\n",
        "    img = imread(image_path, as_gray=True)\n",
        "    # normalizing the pixel values\n",
        "    img /= 255.0\n",
        "    # converting the type of pixel to float 32\n",
        "    img = img.astype('float32')\n",
        "    # appending the image into the list\n",
        "    train_img.append(img)\n",
        "\n",
        "# converting the list to numpy array\n",
        "train_x = np.array(train_img)\n",
        "# defining the target\n",
        "train_y = train_val['type'].values\n",
        "train_x.shape"
      ],
      "execution_count": null,
      "outputs": [
        {
          "output_type": "stream",
          "text": [
            "100%|██████████| 1000/1000 [02:50<00:00,  5.86it/s]\n"
          ],
          "name": "stderr"
        },
        {
          "output_type": "execute_result",
          "data": {
            "text/plain": [
              "(1000, 128, 128)"
            ]
          },
          "metadata": {
            "tags": []
          },
          "execution_count": 9
        }
      ]
    },
    {
      "cell_type": "code",
      "metadata": {
        "id": "5nU0C1kiiu_H",
        "colab": {
          "base_uri": "https://localhost:8080/",
          "height": 34
        },
        "outputId": "05c421a5-d56e-4421-a711-b5cec0757fa0"
      },
      "source": [
        "train_x.shape"
      ],
      "execution_count": null,
      "outputs": [
        {
          "output_type": "execute_result",
          "data": {
            "text/plain": [
              "(1000, 128, 128)"
            ]
          },
          "metadata": {
            "tags": []
          },
          "execution_count": 10
        }
      ]
    },
    {
      "cell_type": "code",
      "metadata": {
        "id": "f1sdt1cQqeA0",
        "colab": {
          "base_uri": "https://localhost:8080/",
          "height": 34
        },
        "outputId": "aa8e99f5-b072-49df-d6cf-22d530f58427"
      },
      "source": [
        "train_y.shape"
      ],
      "execution_count": null,
      "outputs": [
        {
          "output_type": "execute_result",
          "data": {
            "text/plain": [
              "(1000,)"
            ]
          },
          "metadata": {
            "tags": []
          },
          "execution_count": 11
        }
      ]
    },
    {
      "cell_type": "markdown",
      "metadata": {
        "id": "4BuuYiJHpHOf"
      },
      "source": [
        "## Visulizing some `Image` from the numpy object for verification"
      ]
    },
    {
      "cell_type": "code",
      "metadata": {
        "id": "GuC2iMv3plhn",
        "colab": {
          "base_uri": "https://localhost:8080/",
          "height": 574
        },
        "outputId": "079c2ca8-8ecf-4be6-d06a-0af2757b67d7"
      },
      "source": [
        "# Let's view more images in a grid format\n",
        "# Define the dimensions of the plot grid \n",
        "W_grid = 2\n",
        "L_grid = 2\n",
        "\n",
        "# visualizing images\n",
        "idxs = random.sample(range(len(train_x)), W_grid * L_grid)\n",
        "\n",
        "# fig, axes = plt.subplots(L_grid, W_grid)\n",
        "# subplot return the figure object and axes object\n",
        "# we can use the axes object to plot specific figures at various locations\n",
        "fig, axes = plt.subplots(L_grid, W_grid, figsize = (10,10))\n",
        "\n",
        "axes = axes.ravel() \n",
        "\n",
        "for i in range(len(idxs)):\n",
        "    axes[i].imshow(train_x[idxs[i]], cmap='gray')\n",
        "    # axes[i].set_title(predictions_string[idxs[i]], fontsize=15)\n",
        "    axes[i].axis(\"off\")\n",
        "    \n",
        "plt.subplots_adjust(hspace = 0.2)"
      ],
      "execution_count": null,
      "outputs": [
        {
          "output_type": "display_data",
          "data": {
            "image/png": "[encoded data removed]",
            "text/plain": [
              "<Figure size 720x720 with 4 Axes>"
            ]
          },
          "metadata": {
            "tags": [],
            "needs_background": "light"
          }
        }
      ]
    },
    {
      "cell_type": "markdown",
      "metadata": {
        "id": "o512XLIQqzeO"
      },
      "source": [
        "# Splitting the dataset for `testing(20%)` and `training(80%)`"
      ]
    },
    {
      "cell_type": "markdown",
      "metadata": {
        "id": "pT3aTSmhrGw8"
      },
      "source": [
        "## Splitting the dataset"
      ]
    },
    {
      "cell_type": "code",
      "metadata": {
        "id": "qN_Bt5gPiu_P",
        "colab": {
          "base_uri": "https://localhost:8080/",
          "height": 34
        },
        "outputId": "55730b4f-f617-47e9-f177-39a10eb669a7"
      },
      "source": [
        "# create validation set\n",
        "train_x, val_x, train_y, val_y = train_test_split(train_x, train_y, test_size = 0.2)\n",
        "(train_x.shape, train_y.shape), (val_x.shape, val_y.shape)"
      ],
      "execution_count": null,
      "outputs": [
        {
          "output_type": "execute_result",
          "data": {
            "text/plain": [
              "(((800, 128, 128), (800,)), ((200, 128, 128), (200,)))"
            ]
          },
          "metadata": {
            "tags": []
          },
          "execution_count": 13
        }
      ]
    },
    {
      "cell_type": "markdown",
      "metadata": {
        "id": "nyW2CdmqrK2n"
      },
      "source": [
        "## Converting it to tensors"
      ]
    },
    {
      "cell_type": "code",
      "metadata": {
        "id": "rPepSBdLiu_R",
        "colab": {
          "base_uri": "https://localhost:8080/",
          "height": 52
        },
        "outputId": "a5970770-904a-4dae-bc88-70bd9eb1f18b"
      },
      "source": [
        "# converting training images into torch format\n",
        "train_x = train_x.reshape(800, 1, 128, 128)\n",
        "train_x  = torch.from_numpy(train_x)\n",
        "\n",
        "# converting the target into torch format\n",
        "train_y = train_y.astype(int);\n",
        "train_y = torch.from_numpy(train_y)\n",
        "\n",
        "# shape of training data\n",
        "print(train_x.shape)\n",
        "print(train_y.shape)"
      ],
      "execution_count": null,
      "outputs": [
        {
          "output_type": "stream",
          "text": [
            "torch.Size([800, 1, 128, 128])\n",
            "torch.Size([800])\n"
          ],
          "name": "stdout"
        }
      ]
    },
    {
      "cell_type": "code",
      "metadata": {
        "id": "xhI8r8pviu_U",
        "colab": {
          "base_uri": "https://localhost:8080/",
          "height": 52
        },
        "outputId": "8abd9fb6-6d7b-4396-f54a-f5862cd01826"
      },
      "source": [
        "# converting validation images into torch format\n",
        "val_x = val_x.reshape(200, 1, 128, 128)\n",
        "val_x  = torch.from_numpy(val_x)\n",
        "\n",
        "# converting the target into torch format\n",
        "val_y = val_y.astype(int);\n",
        "val_y = torch.from_numpy(val_y)\n",
        "\n",
        "# shape of validation data\n",
        "# shape of training data\n",
        "print(val_x.shape)\n",
        "print(val_y.shape)"
      ],
      "execution_count": null,
      "outputs": [
        {
          "output_type": "stream",
          "text": [
            "torch.Size([200, 1, 128, 128])\n",
            "torch.Size([200])\n"
          ],
          "name": "stdout"
        }
      ]
    },
    {
      "cell_type": "markdown",
      "metadata": {
        "id": "xuexqdTEiu_W"
      },
      "source": [
        "# Implementing CNNs using PyTorch"
      ]
    },
    {
      "cell_type": "markdown",
      "metadata": {
        "id": "ZkrKTLQqrbl4"
      },
      "source": [
        "## CNN Class"
      ]
    },
    {
      "cell_type": "code",
      "metadata": {
        "id": "xiEa67LWiu_W"
      },
      "source": [
        "class Net(Module):   \n",
        "    def __init__(self):\n",
        "        super(Net, self).__init__()\n",
        "\n",
        "        self.cnn_layers = Sequential(\n",
        "            # Defining a 2D convolution layer\n",
        "            Conv2d(1, 4, kernel_size=3, stride=1, padding=1),\n",
        "            BatchNorm2d(4),\n",
        "            ReLU(inplace=True),\n",
        "            MaxPool2d(kernel_size=2, stride=2),\n",
        "            # Defining another 2D convolution layer\n",
        "            Conv2d(4, 4, kernel_size=3, stride=1, padding=1),\n",
        "            BatchNorm2d(4),\n",
        "            ReLU(inplace=True),\n",
        "            MaxPool2d(kernel_size=2, stride=2),\n",
        "        )\n",
        "\n",
        "        self.linear_layers = Sequential(\n",
        "            Linear(4 * 32 * 32, 5)\n",
        "        )\n",
        "\n",
        "    # Defining the forward pass    \n",
        "    def forward(self, x):\n",
        "        x = self.cnn_layers(x)\n",
        "#         print(x.shape)\n",
        "        x = x.view(x.size(0), -1)\n",
        "#         print(x.shape)\n",
        "        x = self.linear_layers(x)\n",
        "        return x"
      ],
      "execution_count": null,
      "outputs": []
    },
    {
      "cell_type": "markdown",
      "metadata": {
        "id": "6KCOsZNbr-NB"
      },
      "source": [
        "## Train Function"
      ]
    },
    {
      "cell_type": "code",
      "metadata": {
        "id": "ZAXvrf4Rr7Ny"
      },
      "source": [
        "def train(epoch):\n",
        "    model.train()\n",
        "    tr_loss = 0\n",
        "    # getting the training set\n",
        "    x_train, y_train = Variable(train_x), Variable(train_y)\n",
        "    # getting the validation set\n",
        "    x_val, y_val = Variable(val_x), Variable(val_y)\n",
        "    # converting the data into GPU format\n",
        "    if torch.cuda.is_available():\n",
        "        x_train = x_train.cuda()\n",
        "        y_train = y_train.cuda()\n",
        "        x_val = x_val.cuda()\n",
        "        y_val = y_val.cuda()\n",
        "\n",
        "    # clearing the Gradients of the model parameters\n",
        "    optimizer.zero_grad()\n",
        "    \n",
        "    # prediction for training and validation set\n",
        "    output_train = model(x_train)\n",
        "    output_val = model(x_val)\n",
        "\n",
        "    # computing the training and validation loss\n",
        "    loss_train = criterion(output_train, y_train)\n",
        "    loss_val = criterion(output_val, y_val)\n",
        "    train_losses.append(loss_train)\n",
        "    val_losses.append(loss_val)\n",
        "\n",
        "    # computing the updated weights of all the model parameters\n",
        "    loss_train.backward()\n",
        "    optimizer.step()\n",
        "    tr_loss = loss_train.item()\n",
        "    if epoch%2 == 0:\n",
        "        # printing the validation loss\n",
        "        print('Epoch : ',epoch+1, '\\t', 'loss :', loss_val)"
      ],
      "execution_count": null,
      "outputs": []
    },
    {
      "cell_type": "markdown",
      "metadata": {
        "id": "CS7Z8z-frhwd"
      },
      "source": [
        "# Model Training"
      ]
    },
    {
      "cell_type": "markdown",
      "metadata": {
        "id": "ia_cVsb6sue8"
      },
      "source": [
        "## Defining Training Parameters"
      ]
    },
    {
      "cell_type": "code",
      "metadata": {
        "id": "NOfB1XoFiu_Y"
      },
      "source": [
        "# defining the model\n",
        "model = Net()\n",
        "# defining the optimizer\n",
        "optimizer = Adam(model.parameters(), lr=0.02)\n",
        "# defining the loss function\n",
        "criterion = CrossEntropyLoss()\n",
        "# checking if GPU is available\n",
        "if torch.cuda.is_available():\n",
        "    model = model.cuda()\n",
        "    criterion = criterion.cuda()\n",
        "    \n",
        "# print(model)"
      ],
      "execution_count": null,
      "outputs": []
    },
    {
      "cell_type": "markdown",
      "metadata": {
        "id": "qGfO1zRPtBcL"
      },
      "source": [
        "## Staring the training"
      ]
    },
    {
      "cell_type": "code",
      "metadata": {
        "id": "rwktE9JEiu_b",
        "colab": {
          "base_uri": "https://localhost:8080/",
          "height": 450
        },
        "outputId": "6af707db-6215-4fbe-b192-cb07d4bda49b"
      },
      "source": [
        "# defining the number of epochs\n",
        "n_epochs = 50\n",
        "# empty list to store training losses\n",
        "train_losses = []\n",
        "# empty list to store validation losses\n",
        "val_losses = []\n",
        "# training the model\n",
        "for epoch in range(n_epochs):\n",
        "    train(epoch)"
      ],
      "execution_count": null,
      "outputs": [
        {
          "output_type": "stream",
          "text": [
            "Epoch :  1 \t loss : tensor(1.7754, grad_fn=<NllLossBackward>)\n",
            "Epoch :  3 \t loss : tensor(23.7805, grad_fn=<NllLossBackward>)\n",
            "Epoch :  5 \t loss : tensor(12.5377, grad_fn=<NllLossBackward>)\n",
            "Epoch :  7 \t loss : tensor(3.5375, grad_fn=<NllLossBackward>)\n",
            "Epoch :  9 \t loss : tensor(1.3267, grad_fn=<NllLossBackward>)\n",
            "Epoch :  11 \t loss : tensor(0.4614, grad_fn=<NllLossBackward>)\n",
            "Epoch :  13 \t loss : tensor(0.3364, grad_fn=<NllLossBackward>)\n",
            "Epoch :  15 \t loss : tensor(0.0954, grad_fn=<NllLossBackward>)\n",
            "Epoch :  17 \t loss : tensor(0.0720, grad_fn=<NllLossBackward>)\n",
            "Epoch :  19 \t loss : tensor(0.0829, grad_fn=<NllLossBackward>)\n",
            "Epoch :  21 \t loss : tensor(0.1005, grad_fn=<NllLossBackward>)\n",
            "Epoch :  23 \t loss : tensor(0.0968, grad_fn=<NllLossBackward>)\n",
            "Epoch :  25 \t loss : tensor(0.0777, grad_fn=<NllLossBackward>)\n",
            "Epoch :  27 \t loss : tensor(0.0592, grad_fn=<NllLossBackward>)\n",
            "Epoch :  29 \t loss : tensor(0.0460, grad_fn=<NllLossBackward>)\n",
            "Epoch :  31 \t loss : tensor(0.0345, grad_fn=<NllLossBackward>)\n",
            "Epoch :  33 \t loss : tensor(0.0262, grad_fn=<NllLossBackward>)\n",
            "Epoch :  35 \t loss : tensor(0.0217, grad_fn=<NllLossBackward>)\n",
            "Epoch :  37 \t loss : tensor(0.0199, grad_fn=<NllLossBackward>)\n",
            "Epoch :  39 \t loss : tensor(0.0181, grad_fn=<NllLossBackward>)\n",
            "Epoch :  41 \t loss : tensor(0.0162, grad_fn=<NllLossBackward>)\n",
            "Epoch :  43 \t loss : tensor(0.0151, grad_fn=<NllLossBackward>)\n",
            "Epoch :  45 \t loss : tensor(0.0149, grad_fn=<NllLossBackward>)\n",
            "Epoch :  47 \t loss : tensor(0.0149, grad_fn=<NllLossBackward>)\n",
            "Epoch :  49 \t loss : tensor(0.0146, grad_fn=<NllLossBackward>)\n"
          ],
          "name": "stdout"
        }
      ]
    },
    {
      "cell_type": "markdown",
      "metadata": {
        "id": "Ephb2EI2s2UX"
      },
      "source": [
        "## Plotting the training and validation loss"
      ]
    },
    {
      "cell_type": "code",
      "metadata": {
        "id": "SXuhd9zqiu_d",
        "colab": {
          "base_uri": "https://localhost:8080/",
          "height": 266
        },
        "outputId": "15b4c686-8fbd-49e2-d755-0848845f6279"
      },
      "source": [
        "# plotting the training and validation loss\n",
        "plt.plot(train_losses, label='Training loss')\n",
        "plt.plot(val_losses, label='Validation loss')\n",
        "plt.legend()\n",
        "plt.show()"
      ],
      "execution_count": null,
      "outputs": [
        {
          "output_type": "display_data",
          "data": {
            "image/png": "[encoded data removed]",
            "text/plain": [
              "<Figure size 432x288 with 1 Axes>"
            ]
          },
          "metadata": {
            "tags": [],
            "needs_background": "light"
          }
        }
      ]
    },
    {
      "cell_type": "markdown",
      "metadata": {
        "id": "h46rmsdQtZgD"
      },
      "source": [
        "# Accuracy of the Model"
      ]
    },
    {
      "cell_type": "code",
      "metadata": {
        "id": "17iVwlxsiu_f",
        "colab": {
          "base_uri": "https://localhost:8080/",
          "height": 34
        },
        "outputId": "ae928f91-9140-453c-fb5d-de10cb60819e"
      },
      "source": [
        "# prediction for training set\n",
        "with torch.no_grad():\n",
        "#     output = model(train_x.cuda())\n",
        "    output = model(train_x)\n",
        "    \n",
        "softmax = torch.exp(output).cpu()\n",
        "prob = list(softmax.numpy())\n",
        "predictions = np.argmax(prob, axis=1)\n",
        "\n",
        "# accuracy on training set\n",
        "acc = accuracy_score(train_y, predictions) * 100\n",
        "\n",
        "print(f\"Accuracy of the model is : {acc} %\")"
      ],
      "execution_count": null,
      "outputs": [
        {
          "output_type": "stream",
          "text": [
            "Accuracy of the model is : 99.0 %\n"
          ],
          "name": "stdout"
        }
      ]
    },
    {
      "cell_type": "markdown",
      "metadata": {
        "id": "-_JXO3zeiu_g"
      },
      "source": [
        "# Test with the Test dataset (unseen data)"
      ]
    },
    {
      "cell_type": "markdown",
      "metadata": {
        "id": "Cgk8svc4E1HO"
      },
      "source": [
        "## Loading the test data"
      ]
    },
    {
      "cell_type": "code",
      "metadata": {
        "id": "J2eby2RTiu_h"
      },
      "source": [
        "test_p = os.path.join(chart_data_path, 'test')\n",
        "count = 0\n",
        "for path in pathlib.Path(test_p).iterdir():\n",
        "    if path.is_file():\n",
        "        count += 1"
      ],
      "execution_count": null,
      "outputs": []
    },
    {
      "cell_type": "code",
      "metadata": {
        "id": "a5MqOBAO7Dbz",
        "colab": {
          "base_uri": "https://localhost:8080/",
          "height": 52
        },
        "outputId": "82baed66-cf9c-46c3-a29e-8405967787ed"
      },
      "source": [
        "# loading testing  images\n",
        "test_img = []\n",
        "\n",
        "for img_name in tqdm(range(count)):\n",
        "    # defining the image path\n",
        "    i_name = str(img_name) + '.png'\n",
        "    image_path = os.path.join(test_p, i_name)\n",
        "\n",
        "    # reading the image\n",
        "    img = imread(image_path, as_gray=True)\n",
        "    # normalizing the pixel values\n",
        "    img /= 255.0\n",
        "    # converting the type of pixel to float 32\n",
        "    img = img.astype('float32')\n",
        "    # appending the image into the list\n",
        "    test_img.append(img)\n",
        "\n",
        "# converting the list to numpy array\n",
        "test_x = np.array(test_img)\n",
        "# # defining the target\n",
        "# train_y = train_val['type'].values\n",
        "test_x.shape"
      ],
      "execution_count": null,
      "outputs": [
        {
          "output_type": "stream",
          "text": [
            "100%|██████████| 50/50 [00:09<00:00,  5.32it/s]\n"
          ],
          "name": "stderr"
        },
        {
          "output_type": "execute_result",
          "data": {
            "text/plain": [
              "(50, 128, 128)"
            ]
          },
          "metadata": {
            "tags": []
          },
          "execution_count": 23
        }
      ]
    },
    {
      "cell_type": "code",
      "metadata": {
        "id": "HV53JYPkiu_l"
      },
      "source": [
        "# converting testing images into torch format\n",
        "test_x_pt = test_x.reshape(count, 1, 128, 128)\n",
        "test_x_pt  = torch.from_numpy(test_x_pt)\n"
      ],
      "execution_count": null,
      "outputs": []
    },
    {
      "cell_type": "code",
      "metadata": {
        "id": "guKUJozCiu_n"
      },
      "source": [
        "# prediction for training set\n",
        "with torch.no_grad():\n",
        "#     output = model(train_x.cuda())\n",
        "    output = model(test_x_pt)\n",
        "    \n",
        "softmax = torch.exp(output).cpu()\n",
        "prob = list(softmax.numpy())\n",
        "\n",
        "predictions = np.argmax(prob, axis=1)\n",
        "predictions_string = [ label_hash[i] for i in predictions]"
      ],
      "execution_count": null,
      "outputs": []
    },
    {
      "cell_type": "markdown",
      "metadata": {
        "id": "tU6DdoTSEG3u"
      },
      "source": [
        "## Randomly picking 9 image samples from the test data set "
      ]
    },
    {
      "cell_type": "code",
      "metadata": {
        "id": "EU66xY9vFHqY"
      },
      "source": [
        "# Let's view more images in a grid format\n",
        "# Define the dimensions of the plot grid \n",
        "\n",
        "# This will randomly pick 9 image samples, if you want 16, then change W_grid = 4 and L_grid = 4\n",
        "\n",
        "W_grid = 3                  \n",
        "L_grid = 3"
      ],
      "execution_count": null,
      "outputs": []
    },
    {
      "cell_type": "markdown",
      "metadata": {
        "id": "0oxHxNhuGoSv"
      },
      "source": [
        "## Visulizing  the samples with the `chart title` as the `prediction` "
      ]
    },
    {
      "cell_type": "code",
      "metadata": {
        "id": "JYsf8xdsiu_p",
        "colab": {
          "base_uri": "https://localhost:8080/",
          "height": 593
        },
        "outputId": "326943a6-109e-423b-e576-146ddc27d0ae"
      },
      "source": [
        "# visualizing images\n",
        "idxs = random.sample(range(count), W_grid * L_grid)\n",
        "\n",
        "# fig, axes = plt.subplots(L_grid, W_grid)\n",
        "# subplot return the figure object and axes object\n",
        "# we can use the axes object to plot specific figures at various locations\n",
        "fig, axes = plt.subplots(L_grid, W_grid, figsize = (10,10))\n",
        "\n",
        "axes = axes.ravel() \n",
        "\n",
        "n_training = len(test_x_pt) # get the length of the training dataset\n",
        "\n",
        "for i in range(len(idxs)):\n",
        "    axes[i].imshow(test_x[idxs[i]], cmap='gray')\n",
        "    axes[i].set_title(predictions_string[idxs[i]], fontsize=15)\n",
        "    axes[i].axis(\"off\")\n",
        "    \n",
        "plt.subplots_adjust(hspace = 0.8)"
      ],
      "execution_count": null,
      "outputs": [
        {
          "output_type": "display_data",
          "data": {
            "image/png": "[encoded data removed]",
            "text/plain": [
              "<Figure size 720x720 with 9 Axes>"
            ]
          },
          "metadata": {
            "tags": [],
            "needs_background": "light"
          }
        }
      ]
    },
    {
      "cell_type": "markdown",
      "metadata": {
        "id": "bj4Cn24DCW3Q"
      },
      "source": [
        "# Conclusion"
      ]
    },
    {
      "cell_type": "markdown",
      "metadata": {
        "id": "EbZspcPJCYsM"
      },
      "source": [
        "We observe that with the model is give a accuracy of ~ 94%-99% \n",
        "\n",
        "With 2 convolution layers, ReLU activation and Maxpooling\n"
      ]
    }
  ]
}