{
  "nbformat": 4,
  "nbformat_minor": 0,
  "metadata": {
    "kernelspec": {
      "display_name": "Python 3.7.6 64-bit ('base': conda)",
      "language": "python",
      "name": "python37664bitbaseconda7483b56708654138a70e5a3bc4c71f81"
    },
    "language_info": {
      "codemirror_mode": {
        "name": "ipython",
        "version": 3
      },
      "file_extension": ".py",
      "mimetype": "text/x-python",
      "name": "python",
      "nbconvert_exporter": "python",
      "pygments_lexer": "ipython3",
      "version": "3.7.6"
    },
    "colab": {
      "name": "Handwritten digit classification using NN.ipynb",
      "provenance": [],
      "collapsed_sections": [
        "V1TEuhJ1fTa-",
        "0Xjelrf5fTbA",
        "C01mDwGKfTbC",
        "Q0vDn9pX6Va7",
        "VBwdFl-16LNj",
        "TDPCfduBridG",
        "xYet-oUEfTbL",
        "QHC3wtFO6ehb",
        "qdUpgoUq6FOg",
        "PJeO892Q1ExU",
        "-H3O9hFPfTbV",
        "h7PAEOA66ofT",
        "sgqNxioM5slP",
        "Sb7BdMMW5D5a"
      ],
      "include_colab_link": true
    },
    "widgets": {
      "application/vnd.jupyter.widget-state+json": {
        "56f2951e262f4bac9e042caa8fa19de4": {
          "model_module": "@jupyter-widgets/controls",
          "model_name": "HBoxModel",
          "state": {
            "_view_name": "HBoxView",
            "_dom_classes": [],
            "_model_name": "HBoxModel",
            "_view_module": "@jupyter-widgets/controls",
            "_model_module_version": "1.5.0",
            "_view_count": null,
            "_view_module_version": "1.5.0",
            "box_style": "",
            "layout": "IPY_MODEL_bbc69f51c2964fe782c768becaf76c2e",
            "_model_module": "@jupyter-widgets/controls",
            "children": [
              "IPY_MODEL_a542e592cf194fb5b17414036a860f9b",
              "IPY_MODEL_587c3f775523492e9dc6ca91b72c033a"
            ]
          },
          "model_module_version": "1.5.0"
        },
        "bbc69f51c2964fe782c768becaf76c2e": {
          "model_module": "@jupyter-widgets/base",
          "model_name": "LayoutModel",
          "state": {
            "_view_name": "LayoutView",
            "grid_template_rows": null,
            "right": null,
            "justify_content": null,
            "_view_module": "@jupyter-widgets/base",
            "overflow": null,
            "_model_module_version": "1.2.0",
            "_view_count": null,
            "flex_flow": null,
            "width": null,
            "min_width": null,
            "border": null,
            "align_items": null,
            "bottom": null,
            "_model_module": "@jupyter-widgets/base",
            "top": null,
            "grid_column": null,
            "overflow_y": null,
            "overflow_x": null,
            "grid_auto_flow": null,
            "grid_area": null,
            "grid_template_columns": null,
            "flex": null,
            "_model_name": "LayoutModel",
            "justify_items": null,
            "grid_row": null,
            "max_height": null,
            "align_content": null,
            "visibility": null,
            "align_self": null,
            "height": null,
            "min_height": null,
            "padding": null,
            "grid_auto_rows": null,
            "grid_gap": null,
            "max_width": null,
            "order": null,
            "_view_module_version": "1.2.0",
            "grid_template_areas": null,
            "object_position": null,
            "object_fit": null,
            "grid_auto_columns": null,
            "margin": null,
            "display": null,
            "left": null
          },
          "model_module_version": "1.2.0"
        },
        "a542e592cf194fb5b17414036a860f9b": {
          "model_module": "@jupyter-widgets/controls",
          "model_name": "FloatProgressModel",
          "state": {
            "_view_name": "ProgressView",
            "style": "IPY_MODEL_02939fcf1bbe4ec7a6edb5ff8898dcf1",
            "_dom_classes": [],
            "description": "",
            "_model_name": "FloatProgressModel",
            "bar_style": "info",
            "max": 1,
            "_view_module": "@jupyter-widgets/controls",
            "_model_module_version": "1.5.0",
            "value": 1,
            "_view_count": null,
            "_view_module_version": "1.5.0",
            "orientation": "horizontal",
            "min": 0,
            "description_tooltip": null,
            "_model_module": "@jupyter-widgets/controls",
            "layout": "IPY_MODEL_0b9add533e354ccfb1c16671d63d58f9"
          },
          "model_module_version": "1.5.0"
        },
        "587c3f775523492e9dc6ca91b72c033a": {
          "model_module": "@jupyter-widgets/controls",
          "model_name": "HTMLModel",
          "state": {
            "_view_name": "HTMLView",
            "style": "IPY_MODEL_549fd92fef404be2935a349464711084",
            "_dom_classes": [],
            "description": "",
            "_model_name": "HTMLModel",
            "placeholder": "​",
            "_view_module": "@jupyter-widgets/controls",
            "_model_module_version": "1.5.0",
            "value": " 9920512/? [00:20&lt;00:00, 1338421.98it/s]",
            "_view_count": null,
            "_view_module_version": "1.5.0",
            "description_tooltip": null,
            "_model_module": "@jupyter-widgets/controls",
            "layout": "IPY_MODEL_1b3b77a24ac74505a539763f95d36e8e"
          },
          "model_module_version": "1.5.0"
        },
        "02939fcf1bbe4ec7a6edb5ff8898dcf1": {
          "model_module": "@jupyter-widgets/controls",
          "model_name": "ProgressStyleModel",
          "state": {
            "_view_name": "StyleView",
            "_model_name": "ProgressStyleModel",
            "description_width": "initial",
            "_view_module": "@jupyter-widgets/base",
            "_model_module_version": "1.5.0",
            "_view_count": null,
            "_view_module_version": "1.2.0",
            "bar_color": null,
            "_model_module": "@jupyter-widgets/controls"
          },
          "model_module_version": "1.5.0"
        },
        "0b9add533e354ccfb1c16671d63d58f9": {
          "model_module": "@jupyter-widgets/base",
          "model_name": "LayoutModel",
          "state": {
            "_view_name": "LayoutView",
            "grid_template_rows": null,
            "right": null,
            "justify_content": null,
            "_view_module": "@jupyter-widgets/base",
            "overflow": null,
            "_model_module_version": "1.2.0",
            "_view_count": null,
            "flex_flow": null,
            "width": null,
            "min_width": null,
            "border": null,
            "align_items": null,
            "bottom": null,
            "_model_module": "@jupyter-widgets/base",
            "top": null,
            "grid_column": null,
            "overflow_y": null,
            "overflow_x": null,
            "grid_auto_flow": null,
            "grid_area": null,
            "grid_template_columns": null,
            "flex": null,
            "_model_name": "LayoutModel",
            "justify_items": null,
            "grid_row": null,
            "max_height": null,
            "align_content": null,
            "visibility": null,
            "align_self": null,
            "height": null,
            "min_height": null,
            "padding": null,
            "grid_auto_rows": null,
            "grid_gap": null,
            "max_width": null,
            "order": null,
            "_view_module_version": "1.2.0",
            "grid_template_areas": null,
            "object_position": null,
            "object_fit": null,
            "grid_auto_columns": null,
            "margin": null,
            "display": null,
            "left": null
          },
          "model_module_version": "1.2.0"
        },
        "549fd92fef404be2935a349464711084": {
          "model_module": "@jupyter-widgets/controls",
          "model_name": "DescriptionStyleModel",
          "state": {
            "_view_name": "StyleView",
            "_model_name": "DescriptionStyleModel",
            "description_width": "",
            "_view_module": "@jupyter-widgets/base",
            "_model_module_version": "1.5.0",
            "_view_count": null,
            "_view_module_version": "1.2.0",
            "_model_module": "@jupyter-widgets/controls"
          },
          "model_module_version": "1.5.0"
        },
        "1b3b77a24ac74505a539763f95d36e8e": {
          "model_module": "@jupyter-widgets/base",
          "model_name": "LayoutModel",
          "state": {
            "_view_name": "LayoutView",
            "grid_template_rows": null,
            "right": null,
            "justify_content": null,
            "_view_module": "@jupyter-widgets/base",
            "overflow": null,
            "_model_module_version": "1.2.0",
            "_view_count": null,
            "flex_flow": null,
            "width": null,
            "min_width": null,
            "border": null,
            "align_items": null,
            "bottom": null,
            "_model_module": "@jupyter-widgets/base",
            "top": null,
            "grid_column": null,
            "overflow_y": null,
            "overflow_x": null,
            "grid_auto_flow": null,
            "grid_area": null,
            "grid_template_columns": null,
            "flex": null,
            "_model_name": "LayoutModel",
            "justify_items": null,
            "grid_row": null,
            "max_height": null,
            "align_content": null,
            "visibility": null,
            "align_self": null,
            "height": null,
            "min_height": null,
            "padding": null,
            "grid_auto_rows": null,
            "grid_gap": null,
            "max_width": null,
            "order": null,
            "_view_module_version": "1.2.0",
            "grid_template_areas": null,
            "object_position": null,
            "object_fit": null,
            "grid_auto_columns": null,
            "margin": null,
            "display": null,
            "left": null
          },
          "model_module_version": "1.2.0"
        },
        "49f84275ba6e4ab79cf37abf90bf7e13": {
          "model_module": "@jupyter-widgets/controls",
          "model_name": "HBoxModel",
          "state": {
            "_view_name": "HBoxView",
            "_dom_classes": [],
            "_model_name": "HBoxModel",
            "_view_module": "@jupyter-widgets/controls",
            "_model_module_version": "1.5.0",
            "_view_count": null,
            "_view_module_version": "1.5.0",
            "box_style": "",
            "layout": "IPY_MODEL_765c53a1fade4f1b81d17cb9bac45e88",
            "_model_module": "@jupyter-widgets/controls",
            "children": [
              "IPY_MODEL_a30f9ef246044b1f88401e10b1bac017",
              "IPY_MODEL_8b747eb444b043e9adc6c65cc9bc742f"
            ]
          },
          "model_module_version": "1.5.0"
        },
        "765c53a1fade4f1b81d17cb9bac45e88": {
          "model_module": "@jupyter-widgets/base",
          "model_name": "LayoutModel",
          "state": {
            "_view_name": "LayoutView",
            "grid_template_rows": null,
            "right": null,
            "justify_content": null,
            "_view_module": "@jupyter-widgets/base",
            "overflow": null,
            "_model_module_version": "1.2.0",
            "_view_count": null,
            "flex_flow": null,
            "width": null,
            "min_width": null,
            "border": null,
            "align_items": null,
            "bottom": null,
            "_model_module": "@jupyter-widgets/base",
            "top": null,
            "grid_column": null,
            "overflow_y": null,
            "overflow_x": null,
            "grid_auto_flow": null,
            "grid_area": null,
            "grid_template_columns": null,
            "flex": null,
            "_model_name": "LayoutModel",
            "justify_items": null,
            "grid_row": null,
            "max_height": null,
            "align_content": null,
            "visibility": null,
            "align_self": null,
            "height": null,
            "min_height": null,
            "padding": null,
            "grid_auto_rows": null,
            "grid_gap": null,
            "max_width": null,
            "order": null,
            "_view_module_version": "1.2.0",
            "grid_template_areas": null,
            "object_position": null,
            "object_fit": null,
            "grid_auto_columns": null,
            "margin": null,
            "display": null,
            "left": null
          },
          "model_module_version": "1.2.0"
        },
        "a30f9ef246044b1f88401e10b1bac017": {
          "model_module": "@jupyter-widgets/controls",
          "model_name": "FloatProgressModel",
          "state": {
            "_view_name": "ProgressView",
            "style": "IPY_MODEL_f58ee7535c7b44508ebd25b1b7fed16c",
            "_dom_classes": [],
            "description": "",
            "_model_name": "FloatProgressModel",
            "bar_style": "info",
            "max": 1,
            "_view_module": "@jupyter-widgets/controls",
            "_model_module_version": "1.5.0",
            "value": 1,
            "_view_count": null,
            "_view_module_version": "1.5.0",
            "orientation": "horizontal",
            "min": 0,
            "description_tooltip": null,
            "_model_module": "@jupyter-widgets/controls",
            "layout": "IPY_MODEL_f9b0ec2a8ffa42d8ac40175c8c5591e0"
          },
          "model_module_version": "1.5.0"
        },
        "8b747eb444b043e9adc6c65cc9bc742f": {
          "model_module": "@jupyter-widgets/controls",
          "model_name": "HTMLModel",
          "state": {
            "_view_name": "HTMLView",
            "style": "IPY_MODEL_b0b9a7b7493a40b7a1710becf1c5aaf1",
            "_dom_classes": [],
            "description": "",
            "_model_name": "HTMLModel",
            "placeholder": "​",
            "_view_module": "@jupyter-widgets/controls",
            "_model_module_version": "1.5.0",
            "value": " 32768/? [00:20&lt;00:00, 94210.73it/s]",
            "_view_count": null,
            "_view_module_version": "1.5.0",
            "description_tooltip": null,
            "_model_module": "@jupyter-widgets/controls",
            "layout": "IPY_MODEL_b145c2a1efa148668092c6e9d09fa4b4"
          },
          "model_module_version": "1.5.0"
        },
        "f58ee7535c7b44508ebd25b1b7fed16c": {
          "model_module": "@jupyter-widgets/controls",
          "model_name": "ProgressStyleModel",
          "state": {
            "_view_name": "StyleView",
            "_model_name": "ProgressStyleModel",
            "description_width": "initial",
            "_view_module": "@jupyter-widgets/base",
            "_model_module_version": "1.5.0",
            "_view_count": null,
            "_view_module_version": "1.2.0",
            "bar_color": null,
            "_model_module": "@jupyter-widgets/controls"
          },
          "model_module_version": "1.5.0"
        },
        "f9b0ec2a8ffa42d8ac40175c8c5591e0": {
          "model_module": "@jupyter-widgets/base",
          "model_name": "LayoutModel",
          "state": {
            "_view_name": "LayoutView",
            "grid_template_rows": null,
            "right": null,
            "justify_content": null,
            "_view_module": "@jupyter-widgets/base",
            "overflow": null,
            "_model_module_version": "1.2.0",
            "_view_count": null,
            "flex_flow": null,
            "width": null,
            "min_width": null,
            "border": null,
            "align_items": null,
            "bottom": null,
            "_model_module": "@jupyter-widgets/base",
            "top": null,
            "grid_column": null,
            "overflow_y": null,
            "overflow_x": null,
            "grid_auto_flow": null,
            "grid_area": null,
            "grid_template_columns": null,
            "flex": null,
            "_model_name": "LayoutModel",
            "justify_items": null,
            "grid_row": null,
            "max_height": null,
            "align_content": null,
            "visibility": null,
            "align_self": null,
            "height": null,
            "min_height": null,
            "padding": null,
            "grid_auto_rows": null,
            "grid_gap": null,
            "max_width": null,
            "order": null,
            "_view_module_version": "1.2.0",
            "grid_template_areas": null,
            "object_position": null,
            "object_fit": null,
            "grid_auto_columns": null,
            "margin": null,
            "display": null,
            "left": null
          },
          "model_module_version": "1.2.0"
        },
        "b0b9a7b7493a40b7a1710becf1c5aaf1": {
          "model_module": "@jupyter-widgets/controls",
          "model_name": "DescriptionStyleModel",
          "state": {
            "_view_name": "StyleView",
            "_model_name": "DescriptionStyleModel",
            "description_width": "",
            "_view_module": "@jupyter-widgets/base",
            "_model_module_version": "1.5.0",
            "_view_count": null,
            "_view_module_version": "1.2.0",
            "_model_module": "@jupyter-widgets/controls"
          },
          "model_module_version": "1.5.0"
        },
        "b145c2a1efa148668092c6e9d09fa4b4": {
          "model_module": "@jupyter-widgets/base",
          "model_name": "LayoutModel",
          "state": {
            "_view_name": "LayoutView",
            "grid_template_rows": null,
            "right": null,
            "justify_content": null,
            "_view_module": "@jupyter-widgets/base",
            "overflow": null,
            "_model_module_version": "1.2.0",
            "_view_count": null,
            "flex_flow": null,
            "width": null,
            "min_width": null,
            "border": null,
            "align_items": null,
            "bottom": null,
            "_model_module": "@jupyter-widgets/base",
            "top": null,
            "grid_column": null,
            "overflow_y": null,
            "overflow_x": null,
            "grid_auto_flow": null,
            "grid_area": null,
            "grid_template_columns": null,
            "flex": null,
            "_model_name": "LayoutModel",
            "justify_items": null,
            "grid_row": null,
            "max_height": null,
            "align_content": null,
            "visibility": null,
            "align_self": null,
            "height": null,
            "min_height": null,
            "padding": null,
            "grid_auto_rows": null,
            "grid_gap": null,
            "max_width": null,
            "order": null,
            "_view_module_version": "1.2.0",
            "grid_template_areas": null,
            "object_position": null,
            "object_fit": null,
            "grid_auto_columns": null,
            "margin": null,
            "display": null,
            "left": null
          },
          "model_module_version": "1.2.0"
        },
        "f5be95b465184fde9b403e1d606c5fc4": {
          "model_module": "@jupyter-widgets/controls",
          "model_name": "HBoxModel",
          "state": {
            "_view_name": "HBoxView",
            "_dom_classes": [],
            "_model_name": "HBoxModel",
            "_view_module": "@jupyter-widgets/controls",
            "_model_module_version": "1.5.0",
            "_view_count": null,
            "_view_module_version": "1.5.0",
            "box_style": "",
            "layout": "IPY_MODEL_721277c93cba4b7cbaec3c2b2b2cb009",
            "_model_module": "@jupyter-widgets/controls",
            "children": [
              "IPY_MODEL_26065286264a45de9e81d1c531532530",
              "IPY_MODEL_5a275182068846c694a7b3e9c5b1dc60"
            ]
          },
          "model_module_version": "1.5.0"
        },
        "721277c93cba4b7cbaec3c2b2b2cb009": {
          "model_module": "@jupyter-widgets/base",
          "model_name": "LayoutModel",
          "state": {
            "_view_name": "LayoutView",
            "grid_template_rows": null,
            "right": null,
            "justify_content": null,
            "_view_module": "@jupyter-widgets/base",
            "overflow": null,
            "_model_module_version": "1.2.0",
            "_view_count": null,
            "flex_flow": null,
            "width": null,
            "min_width": null,
            "border": null,
            "align_items": null,
            "bottom": null,
            "_model_module": "@jupyter-widgets/base",
            "top": null,
            "grid_column": null,
            "overflow_y": null,
            "overflow_x": null,
            "grid_auto_flow": null,
            "grid_area": null,
            "grid_template_columns": null,
            "flex": null,
            "_model_name": "LayoutModel",
            "justify_items": null,
            "grid_row": null,
            "max_height": null,
            "align_content": null,
            "visibility": null,
            "align_self": null,
            "height": null,
            "min_height": null,
            "padding": null,
            "grid_auto_rows": null,
            "grid_gap": null,
            "max_width": null,
            "order": null,
            "_view_module_version": "1.2.0",
            "grid_template_areas": null,
            "object_position": null,
            "object_fit": null,
            "grid_auto_columns": null,
            "margin": null,
            "display": null,
            "left": null
          },
          "model_module_version": "1.2.0"
        },
        "26065286264a45de9e81d1c531532530": {
          "model_module": "@jupyter-widgets/controls",
          "model_name": "FloatProgressModel",
          "state": {
            "_view_name": "ProgressView",
            "style": "IPY_MODEL_c3b087941acd4e7aa44a9be4428a4c83",
            "_dom_classes": [],
            "description": "",
            "_model_name": "FloatProgressModel",
            "bar_style": "success",
            "max": 1,
            "_view_module": "@jupyter-widgets/controls",
            "_model_module_version": "1.5.0",
            "value": 1,
            "_view_count": null,
            "_view_module_version": "1.5.0",
            "orientation": "horizontal",
            "min": 0,
            "description_tooltip": null,
            "_model_module": "@jupyter-widgets/controls",
            "layout": "IPY_MODEL_99ba37e90663446d9efe7bbbc1cdf178"
          },
          "model_module_version": "1.5.0"
        },
        "5a275182068846c694a7b3e9c5b1dc60": {
          "model_module": "@jupyter-widgets/controls",
          "model_name": "HTMLModel",
          "state": {
            "_view_name": "HTMLView",
            "style": "IPY_MODEL_697e97a1ae994e7eb95b5ee37508ba89",
            "_dom_classes": [],
            "description": "",
            "_model_name": "HTMLModel",
            "placeholder": "​",
            "_view_module": "@jupyter-widgets/controls",
            "_model_module_version": "1.5.0",
            "value": " 1654784/? [00:02&lt;00:00, 679394.71it/s]",
            "_view_count": null,
            "_view_module_version": "1.5.0",
            "description_tooltip": null,
            "_model_module": "@jupyter-widgets/controls",
            "layout": "IPY_MODEL_8638d4cc533d46c085b1ed204f28766e"
          },
          "model_module_version": "1.5.0"
        },
        "c3b087941acd4e7aa44a9be4428a4c83": {
          "model_module": "@jupyter-widgets/controls",
          "model_name": "ProgressStyleModel",
          "state": {
            "_view_name": "StyleView",
            "_model_name": "ProgressStyleModel",
            "description_width": "initial",
            "_view_module": "@jupyter-widgets/base",
            "_model_module_version": "1.5.0",
            "_view_count": null,
            "_view_module_version": "1.2.0",
            "bar_color": null,
            "_model_module": "@jupyter-widgets/controls"
          },
          "model_module_version": "1.5.0"
        },
        "99ba37e90663446d9efe7bbbc1cdf178": {
          "model_module": "@jupyter-widgets/base",
          "model_name": "LayoutModel",
          "state": {
            "_view_name": "LayoutView",
            "grid_template_rows": null,
            "right": null,
            "justify_content": null,
            "_view_module": "@jupyter-widgets/base",
            "overflow": null,
            "_model_module_version": "1.2.0",
            "_view_count": null,
            "flex_flow": null,
            "width": null,
            "min_width": null,
            "border": null,
            "align_items": null,
            "bottom": null,
            "_model_module": "@jupyter-widgets/base",
            "top": null,
            "grid_column": null,
            "overflow_y": null,
            "overflow_x": null,
            "grid_auto_flow": null,
            "grid_area": null,
            "grid_template_columns": null,
            "flex": null,
            "_model_name": "LayoutModel",
            "justify_items": null,
            "grid_row": null,
            "max_height": null,
            "align_content": null,
            "visibility": null,
            "align_self": null,
            "height": null,
            "min_height": null,
            "padding": null,
            "grid_auto_rows": null,
            "grid_gap": null,
            "max_width": null,
            "order": null,
            "_view_module_version": "1.2.0",
            "grid_template_areas": null,
            "object_position": null,
            "object_fit": null,
            "grid_auto_columns": null,
            "margin": null,
            "display": null,
            "left": null
          },
          "model_module_version": "1.2.0"
        },
        "697e97a1ae994e7eb95b5ee37508ba89": {
          "model_module": "@jupyter-widgets/controls",
          "model_name": "DescriptionStyleModel",
          "state": {
            "_view_name": "StyleView",
            "_model_name": "DescriptionStyleModel",
            "description_width": "",
            "_view_module": "@jupyter-widgets/base",
            "_model_module_version": "1.5.0",
            "_view_count": null,
            "_view_module_version": "1.2.0",
            "_model_module": "@jupyter-widgets/controls"
          },
          "model_module_version": "1.5.0"
        },
        "8638d4cc533d46c085b1ed204f28766e": {
          "model_module": "@jupyter-widgets/base",
          "model_name": "LayoutModel",
          "state": {
            "_view_name": "LayoutView",
            "grid_template_rows": null,
            "right": null,
            "justify_content": null,
            "_view_module": "@jupyter-widgets/base",
            "overflow": null,
            "_model_module_version": "1.2.0",
            "_view_count": null,
            "flex_flow": null,
            "width": null,
            "min_width": null,
            "border": null,
            "align_items": null,
            "bottom": null,
            "_model_module": "@jupyter-widgets/base",
            "top": null,
            "grid_column": null,
            "overflow_y": null,
            "overflow_x": null,
            "grid_auto_flow": null,
            "grid_area": null,
            "grid_template_columns": null,
            "flex": null,
            "_model_name": "LayoutModel",
            "justify_items": null,
            "grid_row": null,
            "max_height": null,
            "align_content": null,
            "visibility": null,
            "align_self": null,
            "height": null,
            "min_height": null,
            "padding": null,
            "grid_auto_rows": null,
            "grid_gap": null,
            "max_width": null,
            "order": null,
            "_view_module_version": "1.2.0",
            "grid_template_areas": null,
            "object_position": null,
            "object_fit": null,
            "grid_auto_columns": null,
            "margin": null,
            "display": null,
            "left": null
          },
          "model_module_version": "1.2.0"
        },
        "e9b3594f38a6451ab66e15d34dcc606e": {
          "model_module": "@jupyter-widgets/controls",
          "model_name": "HBoxModel",
          "state": {
            "_view_name": "HBoxView",
            "_dom_classes": [],
            "_model_name": "HBoxModel",
            "_view_module": "@jupyter-widgets/controls",
            "_model_module_version": "1.5.0",
            "_view_count": null,
            "_view_module_version": "1.5.0",
            "box_style": "",
            "layout": "IPY_MODEL_46f0a27724a34f42b5f0a5c915b26730",
            "_model_module": "@jupyter-widgets/controls",
            "children": [
              "IPY_MODEL_934af6de12924f9184936d42e3e6dc97",
              "IPY_MODEL_f7b30f2388a046dfac48fc99b0bd1294"
            ]
          },
          "model_module_version": "1.5.0"
        },
        "46f0a27724a34f42b5f0a5c915b26730": {
          "model_module": "@jupyter-widgets/base",
          "model_name": "LayoutModel",
          "state": {
            "_view_name": "LayoutView",
            "grid_template_rows": null,
            "right": null,
            "justify_content": null,
            "_view_module": "@jupyter-widgets/base",
            "overflow": null,
            "_model_module_version": "1.2.0",
            "_view_count": null,
            "flex_flow": null,
            "width": null,
            "min_width": null,
            "border": null,
            "align_items": null,
            "bottom": null,
            "_model_module": "@jupyter-widgets/base",
            "top": null,
            "grid_column": null,
            "overflow_y": null,
            "overflow_x": null,
            "grid_auto_flow": null,
            "grid_area": null,
            "grid_template_columns": null,
            "flex": null,
            "_model_name": "LayoutModel",
            "justify_items": null,
            "grid_row": null,
            "max_height": null,
            "align_content": null,
            "visibility": null,
            "align_self": null,
            "height": null,
            "min_height": null,
            "padding": null,
            "grid_auto_rows": null,
            "grid_gap": null,
            "max_width": null,
            "order": null,
            "_view_module_version": "1.2.0",
            "grid_template_areas": null,
            "object_position": null,
            "object_fit": null,
            "grid_auto_columns": null,
            "margin": null,
            "display": null,
            "left": null
          },
          "model_module_version": "1.2.0"
        },
        "934af6de12924f9184936d42e3e6dc97": {
          "model_module": "@jupyter-widgets/controls",
          "model_name": "FloatProgressModel",
          "state": {
            "_view_name": "ProgressView",
            "style": "IPY_MODEL_e150683c30f645cd983f82b61c2b025c",
            "_dom_classes": [],
            "description": "",
            "_model_name": "FloatProgressModel",
            "bar_style": "success",
            "max": 1,
            "_view_module": "@jupyter-widgets/controls",
            "_model_module_version": "1.5.0",
            "value": 1,
            "_view_count": null,
            "_view_module_version": "1.5.0",
            "orientation": "horizontal",
            "min": 0,
            "description_tooltip": null,
            "_model_module": "@jupyter-widgets/controls",
            "layout": "IPY_MODEL_733abaa4ca0145919349a20d6bde2e1f"
          },
          "model_module_version": "1.5.0"
        },
        "f7b30f2388a046dfac48fc99b0bd1294": {
          "model_module": "@jupyter-widgets/controls",
          "model_name": "HTMLModel",
          "state": {
            "_view_name": "HTMLView",
            "style": "IPY_MODEL_090129ba28264fbea21230c00cf1aae3",
            "_dom_classes": [],
            "description": "",
            "_model_name": "HTMLModel",
            "placeholder": "​",
            "_view_module": "@jupyter-widgets/controls",
            "_model_module_version": "1.5.0",
            "value": " 8192/? [00:00&lt;00:00, 10917.00it/s]",
            "_view_count": null,
            "_view_module_version": "1.5.0",
            "description_tooltip": null,
            "_model_module": "@jupyter-widgets/controls",
            "layout": "IPY_MODEL_b506713e1ff04d1d88def4e9a5d44561"
          },
          "model_module_version": "1.5.0"
        },
        "e150683c30f645cd983f82b61c2b025c": {
          "model_module": "@jupyter-widgets/controls",
          "model_name": "ProgressStyleModel",
          "state": {
            "_view_name": "StyleView",
            "_model_name": "ProgressStyleModel",
            "description_width": "initial",
            "_view_module": "@jupyter-widgets/base",
            "_model_module_version": "1.5.0",
            "_view_count": null,
            "_view_module_version": "1.2.0",
            "bar_color": null,
            "_model_module": "@jupyter-widgets/controls"
          },
          "model_module_version": "1.5.0"
        },
        "733abaa4ca0145919349a20d6bde2e1f": {
          "model_module": "@jupyter-widgets/base",
          "model_name": "LayoutModel",
          "state": {
            "_view_name": "LayoutView",
            "grid_template_rows": null,
            "right": null,
            "justify_content": null,
            "_view_module": "@jupyter-widgets/base",
            "overflow": null,
            "_model_module_version": "1.2.0",
            "_view_count": null,
            "flex_flow": null,
            "width": null,
            "min_width": null,
            "border": null,
            "align_items": null,
            "bottom": null,
            "_model_module": "@jupyter-widgets/base",
            "top": null,
            "grid_column": null,
            "overflow_y": null,
            "overflow_x": null,
            "grid_auto_flow": null,
            "grid_area": null,
            "grid_template_columns": null,
            "flex": null,
            "_model_name": "LayoutModel",
            "justify_items": null,
            "grid_row": null,
            "max_height": null,
            "align_content": null,
            "visibility": null,
            "align_self": null,
            "height": null,
            "min_height": null,
            "padding": null,
            "grid_auto_rows": null,
            "grid_gap": null,
            "max_width": null,
            "order": null,
            "_view_module_version": "1.2.0",
            "grid_template_areas": null,
            "object_position": null,
            "object_fit": null,
            "grid_auto_columns": null,
            "margin": null,
            "display": null,
            "left": null
          },
          "model_module_version": "1.2.0"
        },
        "090129ba28264fbea21230c00cf1aae3": {
          "model_module": "@jupyter-widgets/controls",
          "model_name": "DescriptionStyleModel",
          "state": {
            "_view_name": "StyleView",
            "_model_name": "DescriptionStyleModel",
            "description_width": "",
            "_view_module": "@jupyter-widgets/base",
            "_model_module_version": "1.5.0",
            "_view_count": null,
            "_view_module_version": "1.2.0",
            "_model_module": "@jupyter-widgets/controls"
          },
          "model_module_version": "1.5.0"
        },
        "b506713e1ff04d1d88def4e9a5d44561": {
          "model_module": "@jupyter-widgets/base",
          "model_name": "LayoutModel",
          "state": {
            "_view_name": "LayoutView",
            "grid_template_rows": null,
            "right": null,
            "justify_content": null,
            "_view_module": "@jupyter-widgets/base",
            "overflow": null,
            "_model_module_version": "1.2.0",
            "_view_count": null,
            "flex_flow": null,
            "width": null,
            "min_width": null,
            "border": null,
            "align_items": null,
            "bottom": null,
            "_model_module": "@jupyter-widgets/base",
            "top": null,
            "grid_column": null,
            "overflow_y": null,
            "overflow_x": null,
            "grid_auto_flow": null,
            "grid_area": null,
            "grid_template_columns": null,
            "flex": null,
            "_model_name": "LayoutModel",
            "justify_items": null,
            "grid_row": null,
            "max_height": null,
            "align_content": null,
            "visibility": null,
            "align_self": null,
            "height": null,
            "min_height": null,
            "padding": null,
            "grid_auto_rows": null,
            "grid_gap": null,
            "max_width": null,
            "order": null,
            "_view_module_version": "1.2.0",
            "grid_template_areas": null,
            "object_position": null,
            "object_fit": null,
            "grid_auto_columns": null,
            "margin": null,
            "display": null,
            "left": null
          },
          "model_module_version": "1.2.0"
        },
        "030c5628298e4b63895a7d4c831cba53": {
          "model_module": "@jupyter-widgets/controls",
          "model_name": "HBoxModel",
          "state": {
            "_view_name": "HBoxView",
            "_dom_classes": [],
            "_model_name": "HBoxModel",
            "_view_module": "@jupyter-widgets/controls",
            "_model_module_version": "1.5.0",
            "_view_count": null,
            "_view_module_version": "1.5.0",
            "box_style": "",
            "layout": "IPY_MODEL_70f67f59670c412184056331c35353b3",
            "_model_module": "@jupyter-widgets/controls",
            "children": [
              "IPY_MODEL_4bed0e4f0c4a4c029b9443dde5fc8b1c",
              "IPY_MODEL_a007bf16e5d64d35ae1af16609c413e8"
            ]
          },
          "model_module_version": "1.5.0"
        },
        "70f67f59670c412184056331c35353b3": {
          "model_module": "@jupyter-widgets/base",
          "model_name": "LayoutModel",
          "state": {
            "_view_name": "LayoutView",
            "grid_template_rows": null,
            "right": null,
            "justify_content": null,
            "_view_module": "@jupyter-widgets/base",
            "overflow": null,
            "_model_module_version": "1.2.0",
            "_view_count": null,
            "flex_flow": null,
            "width": null,
            "min_width": null,
            "border": null,
            "align_items": null,
            "bottom": null,
            "_model_module": "@jupyter-widgets/base",
            "top": null,
            "grid_column": null,
            "overflow_y": null,
            "overflow_x": null,
            "grid_auto_flow": null,
            "grid_area": null,
            "grid_template_columns": null,
            "flex": null,
            "_model_name": "LayoutModel",
            "justify_items": null,
            "grid_row": null,
            "max_height": null,
            "align_content": null,
            "visibility": null,
            "align_self": null,
            "height": null,
            "min_height": null,
            "padding": null,
            "grid_auto_rows": null,
            "grid_gap": null,
            "max_width": null,
            "order": null,
            "_view_module_version": "1.2.0",
            "grid_template_areas": null,
            "object_position": null,
            "object_fit": null,
            "grid_auto_columns": null,
            "margin": null,
            "display": null,
            "left": null
          },
          "model_module_version": "1.2.0"
        },
        "4bed0e4f0c4a4c029b9443dde5fc8b1c": {
          "model_module": "@jupyter-widgets/controls",
          "model_name": "FloatProgressModel",
          "state": {
            "_view_name": "ProgressView",
            "style": "IPY_MODEL_ac285672b15b4c7a9c5c701f6bb69022",
            "_dom_classes": [],
            "description": "",
            "_model_name": "FloatProgressModel",
            "bar_style": "info",
            "max": 1,
            "_view_module": "@jupyter-widgets/controls",
            "_model_module_version": "1.5.0",
            "value": 1,
            "_view_count": null,
            "_view_module_version": "1.5.0",
            "orientation": "horizontal",
            "min": 0,
            "description_tooltip": null,
            "_model_module": "@jupyter-widgets/controls",
            "layout": "IPY_MODEL_edfa76e494a347d0853a8383cc9f1252"
          },
          "model_module_version": "1.5.0"
        },
        "a007bf16e5d64d35ae1af16609c413e8": {
          "model_module": "@jupyter-widgets/controls",
          "model_name": "HTMLModel",
          "state": {
            "_view_name": "HTMLView",
            "style": "IPY_MODEL_a5ca09615aed4bfe81379fb8d2a52689",
            "_dom_classes": [],
            "description": "",
            "_model_name": "HTMLModel",
            "placeholder": "​",
            "_view_module": "@jupyter-widgets/controls",
            "_model_module_version": "1.5.0",
            "value": " 9920512/? [00:17&lt;00:00, 2155310.71it/s]",
            "_view_count": null,
            "_view_module_version": "1.5.0",
            "description_tooltip": null,
            "_model_module": "@jupyter-widgets/controls",
            "layout": "IPY_MODEL_a16c003470f2478fb69a412090edec48"
          },
          "model_module_version": "1.5.0"
        },
        "ac285672b15b4c7a9c5c701f6bb69022": {
          "model_module": "@jupyter-widgets/controls",
          "model_name": "ProgressStyleModel",
          "state": {
            "_view_name": "StyleView",
            "_model_name": "ProgressStyleModel",
            "description_width": "initial",
            "_view_module": "@jupyter-widgets/base",
            "_model_module_version": "1.5.0",
            "_view_count": null,
            "_view_module_version": "1.2.0",
            "bar_color": null,
            "_model_module": "@jupyter-widgets/controls"
          },
          "model_module_version": "1.5.0"
        },
        "edfa76e494a347d0853a8383cc9f1252": {
          "model_module": "@jupyter-widgets/base",
          "model_name": "LayoutModel",
          "state": {
            "_view_name": "LayoutView",
            "grid_template_rows": null,
            "right": null,
            "justify_content": null,
            "_view_module": "@jupyter-widgets/base",
            "overflow": null,
            "_model_module_version": "1.2.0",
            "_view_count": null,
            "flex_flow": null,
            "width": null,
            "min_width": null,
            "border": null,
            "align_items": null,
            "bottom": null,
            "_model_module": "@jupyter-widgets/base",
            "top": null,
            "grid_column": null,
            "overflow_y": null,
            "overflow_x": null,
            "grid_auto_flow": null,
            "grid_area": null,
            "grid_template_columns": null,
            "flex": null,
            "_model_name": "LayoutModel",
            "justify_items": null,
            "grid_row": null,
            "max_height": null,
            "align_content": null,
            "visibility": null,
            "align_self": null,
            "height": null,
            "min_height": null,
            "padding": null,
            "grid_auto_rows": null,
            "grid_gap": null,
            "max_width": null,
            "order": null,
            "_view_module_version": "1.2.0",
            "grid_template_areas": null,
            "object_position": null,
            "object_fit": null,
            "grid_auto_columns": null,
            "margin": null,
            "display": null,
            "left": null
          },
          "model_module_version": "1.2.0"
        },
        "a5ca09615aed4bfe81379fb8d2a52689": {
          "model_module": "@jupyter-widgets/controls",
          "model_name": "DescriptionStyleModel",
          "state": {
            "_view_name": "StyleView",
            "_model_name": "DescriptionStyleModel",
            "description_width": "",
            "_view_module": "@jupyter-widgets/base",
            "_model_module_version": "1.5.0",
            "_view_count": null,
            "_view_module_version": "1.2.0",
            "_model_module": "@jupyter-widgets/controls"
          },
          "model_module_version": "1.5.0"
        },
        "a16c003470f2478fb69a412090edec48": {
          "model_module": "@jupyter-widgets/base",
          "model_name": "LayoutModel",
          "state": {
            "_view_name": "LayoutView",
            "grid_template_rows": null,
            "right": null,
            "justify_content": null,
            "_view_module": "@jupyter-widgets/base",
            "overflow": null,
            "_model_module_version": "1.2.0",
            "_view_count": null,
            "flex_flow": null,
            "width": null,
            "min_width": null,
            "border": null,
            "align_items": null,
            "bottom": null,
            "_model_module": "@jupyter-widgets/base",
            "top": null,
            "grid_column": null,
            "overflow_y": null,
            "overflow_x": null,
            "grid_auto_flow": null,
            "grid_area": null,
            "grid_template_columns": null,
            "flex": null,
            "_model_name": "LayoutModel",
            "justify_items": null,
            "grid_row": null,
            "max_height": null,
            "align_content": null,
            "visibility": null,
            "align_self": null,
            "height": null,
            "min_height": null,
            "padding": null,
            "grid_auto_rows": null,
            "grid_gap": null,
            "max_width": null,
            "order": null,
            "_view_module_version": "1.2.0",
            "grid_template_areas": null,
            "object_position": null,
            "object_fit": null,
            "grid_auto_columns": null,
            "margin": null,
            "display": null,
            "left": null
          },
          "model_module_version": "1.2.0"
        },
        "4784b6a3cce444d0a27161d05f6af129": {
          "model_module": "@jupyter-widgets/controls",
          "model_name": "HBoxModel",
          "state": {
            "_view_name": "HBoxView",
            "_dom_classes": [],
            "_model_name": "HBoxModel",
            "_view_module": "@jupyter-widgets/controls",
            "_model_module_version": "1.5.0",
            "_view_count": null,
            "_view_module_version": "1.5.0",
            "box_style": "",
            "layout": "IPY_MODEL_e7727f6258ee4c5c83a4c14b9470a6e5",
            "_model_module": "@jupyter-widgets/controls",
            "children": [
              "IPY_MODEL_f268b8e7a71f4b49815f891175abf0f0",
              "IPY_MODEL_236dca3f908d48888ce46594bb29be40"
            ]
          },
          "model_module_version": "1.5.0"
        },
        "e7727f6258ee4c5c83a4c14b9470a6e5": {
          "model_module": "@jupyter-widgets/base",
          "model_name": "LayoutModel",
          "state": {
            "_view_name": "LayoutView",
            "grid_template_rows": null,
            "right": null,
            "justify_content": null,
            "_view_module": "@jupyter-widgets/base",
            "overflow": null,
            "_model_module_version": "1.2.0",
            "_view_count": null,
            "flex_flow": null,
            "width": null,
            "min_width": null,
            "border": null,
            "align_items": null,
            "bottom": null,
            "_model_module": "@jupyter-widgets/base",
            "top": null,
            "grid_column": null,
            "overflow_y": null,
            "overflow_x": null,
            "grid_auto_flow": null,
            "grid_area": null,
            "grid_template_columns": null,
            "flex": null,
            "_model_name": "LayoutModel",
            "justify_items": null,
            "grid_row": null,
            "max_height": null,
            "align_content": null,
            "visibility": null,
            "align_self": null,
            "height": null,
            "min_height": null,
            "padding": null,
            "grid_auto_rows": null,
            "grid_gap": null,
            "max_width": null,
            "order": null,
            "_view_module_version": "1.2.0",
            "grid_template_areas": null,
            "object_position": null,
            "object_fit": null,
            "grid_auto_columns": null,
            "margin": null,
            "display": null,
            "left": null
          },
          "model_module_version": "1.2.0"
        },
        "f268b8e7a71f4b49815f891175abf0f0": {
          "model_module": "@jupyter-widgets/controls",
          "model_name": "FloatProgressModel",
          "state": {
            "_view_name": "ProgressView",
            "style": "IPY_MODEL_eeb83086109f4a71b1297b3e0ddda026",
            "_dom_classes": [],
            "description": "",
            "_model_name": "FloatProgressModel",
            "bar_style": "info",
            "max": 1,
            "_view_module": "@jupyter-widgets/controls",
            "_model_module_version": "1.5.0",
            "value": 1,
            "_view_count": null,
            "_view_module_version": "1.5.0",
            "orientation": "horizontal",
            "min": 0,
            "description_tooltip": null,
            "_model_module": "@jupyter-widgets/controls",
            "layout": "IPY_MODEL_958da65e6d9942d78734317b9df118ad"
          },
          "model_module_version": "1.5.0"
        },
        "236dca3f908d48888ce46594bb29be40": {
          "model_module": "@jupyter-widgets/controls",
          "model_name": "HTMLModel",
          "state": {
            "_view_name": "HTMLView",
            "style": "IPY_MODEL_ffd265033f424f8aacc3c06c5714c02a",
            "_dom_classes": [],
            "description": "",
            "_model_name": "HTMLModel",
            "placeholder": "​",
            "_view_module": "@jupyter-widgets/controls",
            "_model_module_version": "1.5.0",
            "value": " 32768/? [00:14&lt;00:00, 93196.01it/s]",
            "_view_count": null,
            "_view_module_version": "1.5.0",
            "description_tooltip": null,
            "_model_module": "@jupyter-widgets/controls",
            "layout": "IPY_MODEL_441ae809736b4de1baaa6bc4205b6c5e"
          },
          "model_module_version": "1.5.0"
        },
        "eeb83086109f4a71b1297b3e0ddda026": {
          "model_module": "@jupyter-widgets/controls",
          "model_name": "ProgressStyleModel",
          "state": {
            "_view_name": "StyleView",
            "_model_name": "ProgressStyleModel",
            "description_width": "initial",
            "_view_module": "@jupyter-widgets/base",
            "_model_module_version": "1.5.0",
            "_view_count": null,
            "_view_module_version": "1.2.0",
            "bar_color": null,
            "_model_module": "@jupyter-widgets/controls"
          },
          "model_module_version": "1.5.0"
        },
        "958da65e6d9942d78734317b9df118ad": {
          "model_module": "@jupyter-widgets/base",
          "model_name": "LayoutModel",
          "state": {
            "_view_name": "LayoutView",
            "grid_template_rows": null,
            "right": null,
            "justify_content": null,
            "_view_module": "@jupyter-widgets/base",
            "overflow": null,
            "_model_module_version": "1.2.0",
            "_view_count": null,
            "flex_flow": null,
            "width": null,
            "min_width": null,
            "border": null,
            "align_items": null,
            "bottom": null,
            "_model_module": "@jupyter-widgets/base",
            "top": null,
            "grid_column": null,
            "overflow_y": null,
            "overflow_x": null,
            "grid_auto_flow": null,
            "grid_area": null,
            "grid_template_columns": null,
            "flex": null,
            "_model_name": "LayoutModel",
            "justify_items": null,
            "grid_row": null,
            "max_height": null,
            "align_content": null,
            "visibility": null,
            "align_self": null,
            "height": null,
            "min_height": null,
            "padding": null,
            "grid_auto_rows": null,
            "grid_gap": null,
            "max_width": null,
            "order": null,
            "_view_module_version": "1.2.0",
            "grid_template_areas": null,
            "object_position": null,
            "object_fit": null,
            "grid_auto_columns": null,
            "margin": null,
            "display": null,
            "left": null
          },
          "model_module_version": "1.2.0"
        },
        "ffd265033f424f8aacc3c06c5714c02a": {
          "model_module": "@jupyter-widgets/controls",
          "model_name": "DescriptionStyleModel",
          "state": {
            "_view_name": "StyleView",
            "_model_name": "DescriptionStyleModel",
            "description_width": "",
            "_view_module": "@jupyter-widgets/base",
            "_model_module_version": "1.5.0",
            "_view_count": null,
            "_view_module_version": "1.2.0",
            "_model_module": "@jupyter-widgets/controls"
          },
          "model_module_version": "1.5.0"
        },
        "441ae809736b4de1baaa6bc4205b6c5e": {
          "model_module": "@jupyter-widgets/base",
          "model_name": "LayoutModel",
          "state": {
            "_view_name": "LayoutView",
            "grid_template_rows": null,
            "right": null,
            "justify_content": null,
            "_view_module": "@jupyter-widgets/base",
            "overflow": null,
            "_model_module_version": "1.2.0",
            "_view_count": null,
            "flex_flow": null,
            "width": null,
            "min_width": null,
            "border": null,
            "align_items": null,
            "bottom": null,
            "_model_module": "@jupyter-widgets/base",
            "top": null,
            "grid_column": null,
            "overflow_y": null,
            "overflow_x": null,
            "grid_auto_flow": null,
            "grid_area": null,
            "grid_template_columns": null,
            "flex": null,
            "_model_name": "LayoutModel",
            "justify_items": null,
            "grid_row": null,
            "max_height": null,
            "align_content": null,
            "visibility": null,
            "align_self": null,
            "height": null,
            "min_height": null,
            "padding": null,
            "grid_auto_rows": null,
            "grid_gap": null,
            "max_width": null,
            "order": null,
            "_view_module_version": "1.2.0",
            "grid_template_areas": null,
            "object_position": null,
            "object_fit": null,
            "grid_auto_columns": null,
            "margin": null,
            "display": null,
            "left": null
          },
          "model_module_version": "1.2.0"
        },
        "20e2fb6e3e8f42e7b6f9e70cae8a2ba7": {
          "model_module": "@jupyter-widgets/controls",
          "model_name": "HBoxModel",
          "state": {
            "_view_name": "HBoxView",
            "_dom_classes": [],
            "_model_name": "HBoxModel",
            "_view_module": "@jupyter-widgets/controls",
            "_model_module_version": "1.5.0",
            "_view_count": null,
            "_view_module_version": "1.5.0",
            "box_style": "",
            "layout": "IPY_MODEL_98b2c7e25d184b04a7dbdd9d540ae7aa",
            "_model_module": "@jupyter-widgets/controls",
            "children": [
              "IPY_MODEL_60283d5eff634d7aa5bb4505f4923960",
              "IPY_MODEL_008480b18d264bedb2df6a805df0954c"
            ]
          },
          "model_module_version": "1.5.0"
        },
        "98b2c7e25d184b04a7dbdd9d540ae7aa": {
          "model_module": "@jupyter-widgets/base",
          "model_name": "LayoutModel",
          "state": {
            "_view_name": "LayoutView",
            "grid_template_rows": null,
            "right": null,
            "justify_content": null,
            "_view_module": "@jupyter-widgets/base",
            "overflow": null,
            "_model_module_version": "1.2.0",
            "_view_count": null,
            "flex_flow": null,
            "width": null,
            "min_width": null,
            "border": null,
            "align_items": null,
            "bottom": null,
            "_model_module": "@jupyter-widgets/base",
            "top": null,
            "grid_column": null,
            "overflow_y": null,
            "overflow_x": null,
            "grid_auto_flow": null,
            "grid_area": null,
            "grid_template_columns": null,
            "flex": null,
            "_model_name": "LayoutModel",
            "justify_items": null,
            "grid_row": null,
            "max_height": null,
            "align_content": null,
            "visibility": null,
            "align_self": null,
            "height": null,
            "min_height": null,
            "padding": null,
            "grid_auto_rows": null,
            "grid_gap": null,
            "max_width": null,
            "order": null,
            "_view_module_version": "1.2.0",
            "grid_template_areas": null,
            "object_position": null,
            "object_fit": null,
            "grid_auto_columns": null,
            "margin": null,
            "display": null,
            "left": null
          },
          "model_module_version": "1.2.0"
        },
        "60283d5eff634d7aa5bb4505f4923960": {
          "model_module": "@jupyter-widgets/controls",
          "model_name": "FloatProgressModel",
          "state": {
            "_view_name": "ProgressView",
            "style": "IPY_MODEL_370993774e864d648f62c45ec1640451",
            "_dom_classes": [],
            "description": "",
            "_model_name": "FloatProgressModel",
            "bar_style": "info",
            "max": 1,
            "_view_module": "@jupyter-widgets/controls",
            "_model_module_version": "1.5.0",
            "value": 1,
            "_view_count": null,
            "_view_module_version": "1.5.0",
            "orientation": "horizontal",
            "min": 0,
            "description_tooltip": null,
            "_model_module": "@jupyter-widgets/controls",
            "layout": "IPY_MODEL_6431f63505f9472193189f08a5d650b7"
          },
          "model_module_version": "1.5.0"
        },
        "008480b18d264bedb2df6a805df0954c": {
          "model_module": "@jupyter-widgets/controls",
          "model_name": "HTMLModel",
          "state": {
            "_view_name": "HTMLView",
            "style": "IPY_MODEL_90c552e54934496d887b6b7488e0c338",
            "_dom_classes": [],
            "description": "",
            "_model_name": "HTMLModel",
            "placeholder": "​",
            "_view_module": "@jupyter-widgets/controls",
            "_model_module_version": "1.5.0",
            "value": " 1654784/? [00:13&lt;00:00, 308089.23it/s]",
            "_view_count": null,
            "_view_module_version": "1.5.0",
            "description_tooltip": null,
            "_model_module": "@jupyter-widgets/controls",
            "layout": "IPY_MODEL_2e6f36ecd7554ecfad2e9aff9baf0a75"
          },
          "model_module_version": "1.5.0"
        },
        "370993774e864d648f62c45ec1640451": {
          "model_module": "@jupyter-widgets/controls",
          "model_name": "ProgressStyleModel",
          "state": {
            "_view_name": "StyleView",
            "_model_name": "ProgressStyleModel",
            "description_width": "initial",
            "_view_module": "@jupyter-widgets/base",
            "_model_module_version": "1.5.0",
            "_view_count": null,
            "_view_module_version": "1.2.0",
            "bar_color": null,
            "_model_module": "@jupyter-widgets/controls"
          },
          "model_module_version": "1.5.0"
        },
        "6431f63505f9472193189f08a5d650b7": {
          "model_module": "@jupyter-widgets/base",
          "model_name": "LayoutModel",
          "state": {
            "_view_name": "LayoutView",
            "grid_template_rows": null,
            "right": null,
            "justify_content": null,
            "_view_module": "@jupyter-widgets/base",
            "overflow": null,
            "_model_module_version": "1.2.0",
            "_view_count": null,
            "flex_flow": null,
            "width": null,
            "min_width": null,
            "border": null,
            "align_items": null,
            "bottom": null,
            "_model_module": "@jupyter-widgets/base",
            "top": null,
            "grid_column": null,
            "overflow_y": null,
            "overflow_x": null,
            "grid_auto_flow": null,
            "grid_area": null,
            "grid_template_columns": null,
            "flex": null,
            "_model_name": "LayoutModel",
            "justify_items": null,
            "grid_row": null,
            "max_height": null,
            "align_content": null,
            "visibility": null,
            "align_self": null,
            "height": null,
            "min_height": null,
            "padding": null,
            "grid_auto_rows": null,
            "grid_gap": null,
            "max_width": null,
            "order": null,
            "_view_module_version": "1.2.0",
            "grid_template_areas": null,
            "object_position": null,
            "object_fit": null,
            "grid_auto_columns": null,
            "margin": null,
            "display": null,
            "left": null
          },
          "model_module_version": "1.2.0"
        },
        "90c552e54934496d887b6b7488e0c338": {
          "model_module": "@jupyter-widgets/controls",
          "model_name": "DescriptionStyleModel",
          "state": {
            "_view_name": "StyleView",
            "_model_name": "DescriptionStyleModel",
            "description_width": "",
            "_view_module": "@jupyter-widgets/base",
            "_model_module_version": "1.5.0",
            "_view_count": null,
            "_view_module_version": "1.2.0",
            "_model_module": "@jupyter-widgets/controls"
          },
          "model_module_version": "1.5.0"
        },
        "2e6f36ecd7554ecfad2e9aff9baf0a75": {
          "model_module": "@jupyter-widgets/base",
          "model_name": "LayoutModel",
          "state": {
            "_view_name": "LayoutView",
            "grid_template_rows": null,
            "right": null,
            "justify_content": null,
            "_view_module": "@jupyter-widgets/base",
            "overflow": null,
            "_model_module_version": "1.2.0",
            "_view_count": null,
            "flex_flow": null,
            "width": null,
            "min_width": null,
            "border": null,
            "align_items": null,
            "bottom": null,
            "_model_module": "@jupyter-widgets/base",
            "top": null,
            "grid_column": null,
            "overflow_y": null,
            "overflow_x": null,
            "grid_auto_flow": null,
            "grid_area": null,
            "grid_template_columns": null,
            "flex": null,
            "_model_name": "LayoutModel",
            "justify_items": null,
            "grid_row": null,
            "max_height": null,
            "align_content": null,
            "visibility": null,
            "align_self": null,
            "height": null,
            "min_height": null,
            "padding": null,
            "grid_auto_rows": null,
            "grid_gap": null,
            "max_width": null,
            "order": null,
            "_view_module_version": "1.2.0",
            "grid_template_areas": null,
            "object_position": null,
            "object_fit": null,
            "grid_auto_columns": null,
            "margin": null,
            "display": null,
            "left": null
          },
          "model_module_version": "1.2.0"
        },
        "00640609f7ec4b40a0b4f18fa6174e7f": {
          "model_module": "@jupyter-widgets/controls",
          "model_name": "HBoxModel",
          "state": {
            "_view_name": "HBoxView",
            "_dom_classes": [],
            "_model_name": "HBoxModel",
            "_view_module": "@jupyter-widgets/controls",
            "_model_module_version": "1.5.0",
            "_view_count": null,
            "_view_module_version": "1.5.0",
            "box_style": "",
            "layout": "IPY_MODEL_4073803f0e76412f94bc2bf547e4c41d",
            "_model_module": "@jupyter-widgets/controls",
            "children": [
              "IPY_MODEL_0dfa4531a7ac42ba97320cd304baf551",
              "IPY_MODEL_0ac2abf85131438d85add7f10cf4df13"
            ]
          },
          "model_module_version": "1.5.0"
        },
        "4073803f0e76412f94bc2bf547e4c41d": {
          "model_module": "@jupyter-widgets/base",
          "model_name": "LayoutModel",
          "state": {
            "_view_name": "LayoutView",
            "grid_template_rows": null,
            "right": null,
            "justify_content": null,
            "_view_module": "@jupyter-widgets/base",
            "overflow": null,
            "_model_module_version": "1.2.0",
            "_view_count": null,
            "flex_flow": null,
            "width": null,
            "min_width": null,
            "border": null,
            "align_items": null,
            "bottom": null,
            "_model_module": "@jupyter-widgets/base",
            "top": null,
            "grid_column": null,
            "overflow_y": null,
            "overflow_x": null,
            "grid_auto_flow": null,
            "grid_area": null,
            "grid_template_columns": null,
            "flex": null,
            "_model_name": "LayoutModel",
            "justify_items": null,
            "grid_row": null,
            "max_height": null,
            "align_content": null,
            "visibility": null,
            "align_self": null,
            "height": null,
            "min_height": null,
            "padding": null,
            "grid_auto_rows": null,
            "grid_gap": null,
            "max_width": null,
            "order": null,
            "_view_module_version": "1.2.0",
            "grid_template_areas": null,
            "object_position": null,
            "object_fit": null,
            "grid_auto_columns": null,
            "margin": null,
            "display": null,
            "left": null
          },
          "model_module_version": "1.2.0"
        },
        "0dfa4531a7ac42ba97320cd304baf551": {
          "model_module": "@jupyter-widgets/controls",
          "model_name": "FloatProgressModel",
          "state": {
            "_view_name": "ProgressView",
            "style": "IPY_MODEL_b73943f301964ca88d649a63af702237",
            "_dom_classes": [],
            "description": "  0%",
            "_model_name": "FloatProgressModel",
            "bar_style": "info",
            "max": 1,
            "_view_module": "@jupyter-widgets/controls",
            "_model_module_version": "1.5.0",
            "value": 0,
            "_view_count": null,
            "_view_module_version": "1.5.0",
            "orientation": "horizontal",
            "min": 0,
            "description_tooltip": null,
            "_model_module": "@jupyter-widgets/controls",
            "layout": "IPY_MODEL_410a1ee8bec54b9d802b96269563eb14"
          },
          "model_module_version": "1.5.0"
        },
        "0ac2abf85131438d85add7f10cf4df13": {
          "model_module": "@jupyter-widgets/controls",
          "model_name": "HTMLModel",
          "state": {
            "_view_name": "HTMLView",
            "style": "IPY_MODEL_c804a52b6cdf4db7bd94ed8cd35d3e61",
            "_dom_classes": [],
            "description": "",
            "_model_name": "HTMLModel",
            "placeholder": "​",
            "_view_module": "@jupyter-widgets/controls",
            "_model_module_version": "1.5.0",
            "value": " 0/4542 [00:00&lt;?, ?it/s]",
            "_view_count": null,
            "_view_module_version": "1.5.0",
            "description_tooltip": null,
            "_model_module": "@jupyter-widgets/controls",
            "layout": "IPY_MODEL_9c17a2a49783416bacbc5119522fcde3"
          },
          "model_module_version": "1.5.0"
        },
        "b73943f301964ca88d649a63af702237": {
          "model_module": "@jupyter-widgets/controls",
          "model_name": "ProgressStyleModel",
          "state": {
            "_view_name": "StyleView",
            "_model_name": "ProgressStyleModel",
            "description_width": "initial",
            "_view_module": "@jupyter-widgets/base",
            "_model_module_version": "1.5.0",
            "_view_count": null,
            "_view_module_version": "1.2.0",
            "bar_color": null,
            "_model_module": "@jupyter-widgets/controls"
          },
          "model_module_version": "1.5.0"
        },
        "410a1ee8bec54b9d802b96269563eb14": {
          "model_module": "@jupyter-widgets/base",
          "model_name": "LayoutModel",
          "state": {
            "_view_name": "LayoutView",
            "grid_template_rows": null,
            "right": null,
            "justify_content": null,
            "_view_module": "@jupyter-widgets/base",
            "overflow": null,
            "_model_module_version": "1.2.0",
            "_view_count": null,
            "flex_flow": null,
            "width": null,
            "min_width": null,
            "border": null,
            "align_items": null,
            "bottom": null,
            "_model_module": "@jupyter-widgets/base",
            "top": null,
            "grid_column": null,
            "overflow_y": null,
            "overflow_x": null,
            "grid_auto_flow": null,
            "grid_area": null,
            "grid_template_columns": null,
            "flex": null,
            "_model_name": "LayoutModel",
            "justify_items": null,
            "grid_row": null,
            "max_height": null,
            "align_content": null,
            "visibility": null,
            "align_self": null,
            "height": null,
            "min_height": null,
            "padding": null,
            "grid_auto_rows": null,
            "grid_gap": null,
            "max_width": null,
            "order": null,
            "_view_module_version": "1.2.0",
            "grid_template_areas": null,
            "object_position": null,
            "object_fit": null,
            "grid_auto_columns": null,
            "margin": null,
            "display": null,
            "left": null
          },
          "model_module_version": "1.2.0"
        },
        "c804a52b6cdf4db7bd94ed8cd35d3e61": {
          "model_module": "@jupyter-widgets/controls",
          "model_name": "DescriptionStyleModel",
          "state": {
            "_view_name": "StyleView",
            "_model_name": "DescriptionStyleModel",
            "description_width": "",
            "_view_module": "@jupyter-widgets/base",
            "_model_module_version": "1.5.0",
            "_view_count": null,
            "_view_module_version": "1.2.0",
            "_model_module": "@jupyter-widgets/controls"
          },
          "model_module_version": "1.5.0"
        },
        "9c17a2a49783416bacbc5119522fcde3": {
          "model_module": "@jupyter-widgets/base",
          "model_name": "LayoutModel",
          "state": {
            "_view_name": "LayoutView",
            "grid_template_rows": null,
            "right": null,
            "justify_content": null,
            "_view_module": "@jupyter-widgets/base",
            "overflow": null,
            "_model_module_version": "1.2.0",
            "_view_count": null,
            "flex_flow": null,
            "width": null,
            "min_width": null,
            "border": null,
            "align_items": null,
            "bottom": null,
            "_model_module": "@jupyter-widgets/base",
            "top": null,
            "grid_column": null,
            "overflow_y": null,
            "overflow_x": null,
            "grid_auto_flow": null,
            "grid_area": null,
            "grid_template_columns": null,
            "flex": null,
            "_model_name": "LayoutModel",
            "justify_items": null,
            "grid_row": null,
            "max_height": null,
            "align_content": null,
            "visibility": null,
            "align_self": null,
            "height": null,
            "min_height": null,
            "padding": null,
            "grid_auto_rows": null,
            "grid_gap": null,
            "max_width": null,
            "order": null,
            "_view_module_version": "1.2.0",
            "grid_template_areas": null,
            "object_position": null,
            "object_fit": null,
            "grid_auto_columns": null,
            "margin": null,
            "display": null,
            "left": null
          },
          "model_module_version": "1.2.0"
        }
      }
    }
  },
  "cells": [
    {
      "cell_type": "markdown",
      "metadata": {
        "id": "view-in-github",
        "colab_type": "text"
      },
      "source": [
        "<a href=\"https://colab.research.google.com/github/neeluvermaiitj/Deep-Learning/blob/main/Handwritten_digit_classification_using_NN.ipynb\" target=\"_parent\"><img src=\"https://colab.research.google.com/assets/colab-badge.svg\" alt=\"Open In Colab\"/></a>"
      ]
    },
    {
      "cell_type": "markdown",
      "metadata": {
        "id": "ollqagOh7RXk"
      },
      "source": [
        "# **Question**"
      ]
    },
    {
      "cell_type": "markdown",
      "metadata": {
        "id": "8iM4BgROfeae"
      },
      "source": [
        "\n",
        "Please go through the following blog to learn how to recognize handwritten digits using\n",
        "Neural Network. Here Neural Network is coded using PyTorch Library in Python.\n",
        "https://towardsdatascience.com/handwritten-digit-mnist-pytorch-977b5338e627\n",
        "Use above code and report your observation based on the following:(10 points)\n",
        "\n",
        "(i) Change loss function,\n",
        "\n",
        "(ii) Change in learning rate, and\n",
        "\n",
        "(iii) Change in Number of hidden layers"
      ]
    },
    {
      "cell_type": "markdown",
      "metadata": {
        "id": "bKqELgZBfTa6"
      },
      "source": [
        "# Importing the modules"
      ]
    },
    {
      "cell_type": "markdown",
      "metadata": {
        "id": "cg1wtWx_fvVk"
      },
      "source": [
        "Importing all the modules "
      ]
    },
    {
      "cell_type": "code",
      "metadata": {
        "id": "M_8jby3TfTa7"
      },
      "source": [
        "import numpy as np\n",
        "import torch\n",
        "import torchvision\n",
        "import matplotlib.pyplot as plt\n",
        "from time import time\n",
        "from torchvision import datasets, transforms\n",
        "from torch import nn, optim"
      ],
      "execution_count": null,
      "outputs": []
    },
    {
      "cell_type": "markdown",
      "metadata": {
        "id": "V1TEuhJ1fTa-"
      },
      "source": [
        "# Neural Network"
      ]
    },
    {
      "cell_type": "markdown",
      "metadata": {
        "id": "cMwjJC5wf4Z8"
      },
      "source": [
        "Here we are making few function which we are going to use later while training:\n",
        "\n",
        "`get_nn_model()` - This function takes no. of hidden layers as input and returns the `pytorch nn` object with respective no. of hidden layers\n",
        "\n",
        "`get_criterion()` - This takes sets the respective loss function for the neural network \n",
        "\n",
        "`fit()` - This performs the training \n",
        "\n",
        "`model_accuracy()` - This computs the acccuracy of the model\n",
        "\n",
        "\n",
        "\n"
      ]
    },
    {
      "cell_type": "code",
      "metadata": {
        "id": "kQ2IBkycfTa-"
      },
      "source": [
        "def get_nn_model(hidden_sizes):\n",
        "    if len(hidden_sizes) == 2:\n",
        "        model = nn.Sequential(nn.Linear(input_size, hidden_sizes[0]),\n",
        "                            nn.ReLU(),\n",
        "                            nn.Linear(hidden_sizes[0], hidden_sizes[1]),\n",
        "                            nn.ReLU(),\n",
        "                            nn.Linear(hidden_sizes[1], output_size),\n",
        "                            nn.LogSoftmax(dim=1))\n",
        "    elif len(hidden_sizes) == 3:\n",
        "        model = nn.Sequential(nn.Linear(input_size, hidden_sizes[0]),\n",
        "                    nn.ReLU(),\n",
        "                    nn.Linear(hidden_sizes[0], hidden_sizes[1]),\n",
        "                    nn.ReLU(),\n",
        "                    nn.Linear(hidden_sizes[1], hidden_sizes[2]),\n",
        "                    nn.ReLU(),                              \n",
        "                    nn.Linear(hidden_sizes[2], output_size),\n",
        "                    nn.LogSoftmax(dim=1))\n",
        "    elif len(hidden_sizes) == 4:\n",
        "        model = nn.Sequential(nn.Linear(input_size, hidden_sizes[0]),\n",
        "                    nn.ReLU(),\n",
        "                    nn.Linear(hidden_sizes[0], hidden_sizes[1]),\n",
        "                    nn.ReLU(),\n",
        "                    nn.Linear(hidden_sizes[1], hidden_sizes[2]),\n",
        "                    nn.ReLU(),     \n",
        "                    nn.Linear(hidden_sizes[2], hidden_sizes[3]),\n",
        "                    nn.ReLU(),  \n",
        "                    nn.Linear(hidden_sizes[3], output_size),\n",
        "                    nn.LogSoftmax(dim=1))\n",
        "        \n",
        "    return model\n",
        "\n",
        "def get_criterion(l):\n",
        "\n",
        "    if l == \"NLLLoss\":\n",
        "        criterion = nn.NLLLoss()\n",
        "    elif l == \"MSELoss\":\n",
        "        criterion = nn.MSELoss()\n",
        "    elif l == \"SmoothL1Loss\":\n",
        "        criterion = nn.SmoothL1Loss()\n",
        "    elif l == \"CrossEntropyLoss\":\n",
        "        criterion = nn.CrossEntropyLoss()\n",
        "    elif l == \"KLDivLoss\":\n",
        "        criterion = nn.KLDivLoss()\n",
        "    \n",
        "    return criterion\n",
        "\n",
        "def fit(model, lr, criterion):\n",
        "\n",
        "    optimizer = optim.SGD(model.parameters(), lr=lr, momentum=0.9)\n",
        "    time0 = time()\n",
        "    epochs = 15       # Change it to 15 for the final run\n",
        "    loss_history = dict()\n",
        "\n",
        "    for e in range(epochs):\n",
        "        running_loss = 0\n",
        "        for images, labels in trainloader:\n",
        "            # Flatten MNIST images into a 784 long vector\n",
        "            images = images.view(images.shape[0], -1)\n",
        "        \n",
        "            # Training pass\n",
        "            optimizer.zero_grad()\n",
        "            \n",
        "            output = model(images)\n",
        "            loss = criterion(output, labels)\n",
        "            \n",
        "            #This is where the model learns by backpropagating\n",
        "            loss.backward()\n",
        "            \n",
        "            #And optimizes its weights here\n",
        "            optimizer.step()\n",
        "            \n",
        "            running_loss += loss.item()\n",
        "        else:\n",
        "            loss_history[e] = running_loss/len(trainloader)\n",
        "            print(\"Epoch {} - Training loss: {}\".format(e, running_loss/len(trainloader)))\n",
        "\n",
        "    total_time_for_training = (time()-time0)/60\n",
        "\n",
        "    print(\"\\nTraining Time (in minutes) =\",total_time_for_training)\n",
        "\n",
        "    return model, total_time_for_training, loss_history\n",
        "\n",
        "def view_classify(img, ps):\n",
        "    ''' Function for viewing an image and it's predicted classes.\n",
        "    '''\n",
        "    ps = ps.data.numpy().squeeze()\n",
        "\n",
        "    fig, (ax1, ax2) = plt.subplots(figsize=(6,9), ncols=2)\n",
        "    ax1.imshow(img.resize_(1, 28, 28).numpy().squeeze())\n",
        "    ax1.axis('off')\n",
        "    ax2.barh(np.arange(10), ps)\n",
        "    ax2.set_aspect(0.1)\n",
        "    ax2.set_yticks(np.arange(10))\n",
        "    ax2.set_yticklabels(np.arange(10))\n",
        "    ax2.set_title('Class Probability')\n",
        "    ax2.set_xlim(0, 1.1)\n",
        "    plt.tight_layout()\n",
        "\n",
        "def validation_one_sample(valloader, model):\n",
        "\n",
        "    images, labels = next(iter(valloader))\n",
        "\n",
        "    img = images[0].view(1, 784)\n",
        "    with torch.no_grad():\n",
        "        logps = model(img)\n",
        "\n",
        "    ps = torch.exp(logps)\n",
        "    probab = list(ps.numpy()[0])\n",
        "    print(\"Predicted Digit =\", probab.index(max(probab)))\n",
        "    view_classify(img.view(1, 28, 28), ps)\n",
        "\n",
        "def model_accuracy(valloader, model):\n",
        "\n",
        "    correct_count, all_count = 0, 0\n",
        "    for images,labels in valloader:\n",
        "        for i in range(len(labels)):\n",
        "            img = images[i].view(1, 784)\n",
        "            with torch.no_grad():\n",
        "                logps = model(img)\n",
        "                \n",
        "            ps = torch.exp(logps)\n",
        "            probab = list(ps.numpy()[0])\n",
        "            pred_label = probab.index(max(probab))\n",
        "            true_label = labels.numpy()[i]\n",
        "            if(true_label == pred_label):\n",
        "                correct_count += 1\n",
        "            all_count += 1\n",
        "\n",
        "    acc = correct_count/all_count\n",
        "\n",
        "#     print(\"Number Of Images Tested =\", all_count)\n",
        "#     print(f\"Model Accuracy = {acc}\")\n",
        "\n",
        "    return acc\n",
        "\n"
      ],
      "execution_count": null,
      "outputs": []
    },
    {
      "cell_type": "markdown",
      "metadata": {
        "id": "0Xjelrf5fTbA"
      },
      "source": [
        "# Loading the dataset\n"
      ]
    },
    {
      "cell_type": "markdown",
      "metadata": {
        "id": "v3vGTeAihW1n"
      },
      "source": [
        "Here we are loading the `MNIST` dataset from `torchvision.datasets` "
      ]
    },
    {
      "cell_type": "code",
      "metadata": {
        "id": "HwlvdKh2fTbA",
        "outputId": "b8c07cfb-6f0f-41ee-e357-62cd23152953",
        "colab": {
          "base_uri": "https://localhost:8080/",
          "height": 692,
          "referenced_widgets": [
            "56f2951e262f4bac9e042caa8fa19de4",
            "bbc69f51c2964fe782c768becaf76c2e",
            "a542e592cf194fb5b17414036a860f9b",
            "587c3f775523492e9dc6ca91b72c033a",
            "02939fcf1bbe4ec7a6edb5ff8898dcf1",
            "0b9add533e354ccfb1c16671d63d58f9",
            "549fd92fef404be2935a349464711084",
            "1b3b77a24ac74505a539763f95d36e8e",
            "49f84275ba6e4ab79cf37abf90bf7e13",
            "765c53a1fade4f1b81d17cb9bac45e88",
            "a30f9ef246044b1f88401e10b1bac017",
            "8b747eb444b043e9adc6c65cc9bc742f",
            "f58ee7535c7b44508ebd25b1b7fed16c",
            "f9b0ec2a8ffa42d8ac40175c8c5591e0",
            "b0b9a7b7493a40b7a1710becf1c5aaf1",
            "b145c2a1efa148668092c6e9d09fa4b4",
            "f5be95b465184fde9b403e1d606c5fc4",
            "721277c93cba4b7cbaec3c2b2b2cb009",
            "26065286264a45de9e81d1c531532530",
            "5a275182068846c694a7b3e9c5b1dc60",
            "c3b087941acd4e7aa44a9be4428a4c83",
            "99ba37e90663446d9efe7bbbc1cdf178",
            "697e97a1ae994e7eb95b5ee37508ba89",
            "8638d4cc533d46c085b1ed204f28766e",
            "e9b3594f38a6451ab66e15d34dcc606e",
            "46f0a27724a34f42b5f0a5c915b26730",
            "934af6de12924f9184936d42e3e6dc97",
            "f7b30f2388a046dfac48fc99b0bd1294",
            "e150683c30f645cd983f82b61c2b025c",
            "733abaa4ca0145919349a20d6bde2e1f",
            "090129ba28264fbea21230c00cf1aae3",
            "b506713e1ff04d1d88def4e9a5d44561",
            "030c5628298e4b63895a7d4c831cba53",
            "70f67f59670c412184056331c35353b3",
            "4bed0e4f0c4a4c029b9443dde5fc8b1c",
            "a007bf16e5d64d35ae1af16609c413e8",
            "ac285672b15b4c7a9c5c701f6bb69022",
            "edfa76e494a347d0853a8383cc9f1252",
            "a5ca09615aed4bfe81379fb8d2a52689",
            "a16c003470f2478fb69a412090edec48",
            "4784b6a3cce444d0a27161d05f6af129",
            "e7727f6258ee4c5c83a4c14b9470a6e5",
            "f268b8e7a71f4b49815f891175abf0f0",
            "236dca3f908d48888ce46594bb29be40",
            "eeb83086109f4a71b1297b3e0ddda026",
            "958da65e6d9942d78734317b9df118ad",
            "ffd265033f424f8aacc3c06c5714c02a",
            "441ae809736b4de1baaa6bc4205b6c5e",
            "20e2fb6e3e8f42e7b6f9e70cae8a2ba7",
            "98b2c7e25d184b04a7dbdd9d540ae7aa",
            "60283d5eff634d7aa5bb4505f4923960",
            "008480b18d264bedb2df6a805df0954c",
            "370993774e864d648f62c45ec1640451",
            "6431f63505f9472193189f08a5d650b7",
            "90c552e54934496d887b6b7488e0c338",
            "2e6f36ecd7554ecfad2e9aff9baf0a75",
            "00640609f7ec4b40a0b4f18fa6174e7f",
            "4073803f0e76412f94bc2bf547e4c41d",
            "0dfa4531a7ac42ba97320cd304baf551",
            "0ac2abf85131438d85add7f10cf4df13",
            "b73943f301964ca88d649a63af702237",
            "410a1ee8bec54b9d802b96269563eb14",
            "c804a52b6cdf4db7bd94ed8cd35d3e61",
            "9c17a2a49783416bacbc5119522fcde3"
          ]
        }
      },
      "source": [
        "T = transforms.Compose([transforms.ToTensor(),\n",
        "                              transforms.Normalize((0.5,), (0.5,)),\n",
        "                              ])\n",
        "\n",
        "trainset = datasets.MNIST('train_data', download=True, train=True, transform=T)\n",
        "valset = datasets.MNIST('test_data', download=True, train=False, transform=T)\n",
        "\n",
        "trainloader = torch.utils.data.DataLoader(trainset, batch_size=64, shuffle=True)\n",
        "valloader = torch.utils.data.DataLoader(valset, batch_size=64, shuffle=True)"
      ],
      "execution_count": null,
      "outputs": [
        {
          "output_type": "stream",
          "text": [
            "Downloading http://yann.lecun.com/exdb/mnist/train-images-idx3-ubyte.gz to train_data/MNIST/raw/train-images-idx3-ubyte.gz\n"
          ],
          "name": "stdout"
        },
        {
          "output_type": "display_data",
          "data": {
            "application/vnd.jupyter.widget-view+json": {
              "model_id": "56f2951e262f4bac9e042caa8fa19de4",
              "version_minor": 0,
              "version_major": 2
            },
            "text/plain": [
              "HBox(children=(FloatProgress(value=1.0, bar_style='info', max=1.0), HTML(value='')))"
            ]
          },
          "metadata": {
            "tags": []
          }
        },
        {
          "output_type": "stream",
          "text": [
            "Extracting train_data/MNIST/raw/train-images-idx3-ubyte.gz to train_data/MNIST/raw\n",
            "Downloading http://yann.lecun.com/exdb/mnist/train-labels-idx1-ubyte.gz to train_data/MNIST/raw/train-labels-idx1-ubyte.gz\n"
          ],
          "name": "stdout"
        },
        {
          "output_type": "display_data",
          "data": {
            "application/vnd.jupyter.widget-view+json": {
              "model_id": "49f84275ba6e4ab79cf37abf90bf7e13",
              "version_minor": 0,
              "version_major": 2
            },
            "text/plain": [
              "HBox(children=(FloatProgress(value=1.0, bar_style='info', max=1.0), HTML(value='')))"
            ]
          },
          "metadata": {
            "tags": []
          }
        },
        {
          "output_type": "stream",
          "text": [
            "Extracting train_data/MNIST/raw/train-labels-idx1-ubyte.gz to train_data/MNIST/raw\n",
            "Downloading http://yann.lecun.com/exdb/mnist/t10k-images-idx3-ubyte.gz to train_data/MNIST/raw/t10k-images-idx3-ubyte.gz\n"
          ],
          "name": "stdout"
        },
        {
          "output_type": "display_data",
          "data": {
            "application/vnd.jupyter.widget-view+json": {
              "model_id": "f5be95b465184fde9b403e1d606c5fc4",
              "version_minor": 0,
              "version_major": 2
            },
            "text/plain": [
              "HBox(children=(FloatProgress(value=1.0, bar_style='info', max=1.0), HTML(value='')))"
            ]
          },
          "metadata": {
            "tags": []
          }
        },
        {
          "output_type": "stream",
          "text": [
            "Extracting train_data/MNIST/raw/t10k-images-idx3-ubyte.gz to train_data/MNIST/raw\n",
            "Downloading http://yann.lecun.com/exdb/mnist/t10k-labels-idx1-ubyte.gz to train_data/MNIST/raw/t10k-labels-idx1-ubyte.gz\n"
          ],
          "name": "stdout"
        },
        {
          "output_type": "display_data",
          "data": {
            "application/vnd.jupyter.widget-view+json": {
              "model_id": "e9b3594f38a6451ab66e15d34dcc606e",
              "version_minor": 0,
              "version_major": 2
            },
            "text/plain": [
              "HBox(children=(FloatProgress(value=1.0, bar_style='info', max=1.0), HTML(value='')))"
            ]
          },
          "metadata": {
            "tags": []
          }
        },
        {
          "output_type": "stream",
          "text": [
            "Extracting train_data/MNIST/raw/t10k-labels-idx1-ubyte.gz to train_data/MNIST/raw\n",
            "Processing...\n",
            "Done!\n"
          ],
          "name": "stdout"
        },
        {
          "output_type": "stream",
          "text": [
            "/usr/local/lib/python3.6/dist-packages/torchvision/datasets/mnist.py:469: UserWarning: The given NumPy array is not writeable, and PyTorch does not support non-writeable tensors. This means you can write to the underlying (supposedly non-writeable) NumPy array using the tensor. You may want to copy the array to protect its data or make it writeable before converting it to a tensor. This type of warning will be suppressed for the rest of this program. (Triggered internally at  /pytorch/torch/csrc/utils/tensor_numpy.cpp:141.)\n",
            "  return torch.from_numpy(parsed.astype(m[2], copy=False)).view(*s)\n"
          ],
          "name": "stderr"
        },
        {
          "output_type": "stream",
          "text": [
            "Downloading http://yann.lecun.com/exdb/mnist/train-images-idx3-ubyte.gz to test_data/MNIST/raw/train-images-idx3-ubyte.gz\n",
            "\n",
            "\n"
          ],
          "name": "stdout"
        },
        {
          "output_type": "display_data",
          "data": {
            "application/vnd.jupyter.widget-view+json": {
              "model_id": "030c5628298e4b63895a7d4c831cba53",
              "version_minor": 0,
              "version_major": 2
            },
            "text/plain": [
              "HBox(children=(FloatProgress(value=1.0, bar_style='info', max=1.0), HTML(value='')))"
            ]
          },
          "metadata": {
            "tags": []
          }
        },
        {
          "output_type": "stream",
          "text": [
            "Extracting test_data/MNIST/raw/train-images-idx3-ubyte.gz to test_data/MNIST/raw\n",
            "Downloading http://yann.lecun.com/exdb/mnist/train-labels-idx1-ubyte.gz to test_data/MNIST/raw/train-labels-idx1-ubyte.gz\n"
          ],
          "name": "stdout"
        },
        {
          "output_type": "display_data",
          "data": {
            "application/vnd.jupyter.widget-view+json": {
              "model_id": "4784b6a3cce444d0a27161d05f6af129",
              "version_minor": 0,
              "version_major": 2
            },
            "text/plain": [
              "HBox(children=(FloatProgress(value=1.0, bar_style='info', max=1.0), HTML(value='')))"
            ]
          },
          "metadata": {
            "tags": []
          }
        },
        {
          "output_type": "stream",
          "text": [
            "Extracting test_data/MNIST/raw/train-labels-idx1-ubyte.gz to test_data/MNIST/raw\n",
            "Downloading http://yann.lecun.com/exdb/mnist/t10k-images-idx3-ubyte.gz to test_data/MNIST/raw/t10k-images-idx3-ubyte.gz\n"
          ],
          "name": "stdout"
        },
        {
          "output_type": "display_data",
          "data": {
            "application/vnd.jupyter.widget-view+json": {
              "model_id": "20e2fb6e3e8f42e7b6f9e70cae8a2ba7",
              "version_minor": 0,
              "version_major": 2
            },
            "text/plain": [
              "HBox(children=(FloatProgress(value=1.0, bar_style='info', max=1.0), HTML(value='')))"
            ]
          },
          "metadata": {
            "tags": []
          }
        },
        {
          "output_type": "stream",
          "text": [
            "Extracting test_data/MNIST/raw/t10k-images-idx3-ubyte.gz to test_data/MNIST/raw\n",
            "Downloading http://yann.lecun.com/exdb/mnist/t10k-labels-idx1-ubyte.gz to test_data/MNIST/raw/t10k-labels-idx1-ubyte.gz\n"
          ],
          "name": "stdout"
        },
        {
          "output_type": "display_data",
          "data": {
            "application/vnd.jupyter.widget-view+json": {
              "model_id": "00640609f7ec4b40a0b4f18fa6174e7f",
              "version_minor": 0,
              "version_major": 2
            },
            "text/plain": [
              "HBox(children=(FloatProgress(value=1.0, bar_style='info', max=1.0), HTML(value='')))"
            ]
          },
          "metadata": {
            "tags": []
          }
        },
        {
          "output_type": "stream",
          "text": [
            "Extracting test_data/MNIST/raw/t10k-labels-idx1-ubyte.gz to test_data/MNIST/raw\n",
            "Processing...\n",
            "Done!\n"
          ],
          "name": "stdout"
        }
      ]
    },
    {
      "cell_type": "markdown",
      "metadata": {
        "id": "C01mDwGKfTbC"
      },
      "source": [
        "# (i) Change `loss function`"
      ]
    },
    {
      "cell_type": "markdown",
      "metadata": {
        "id": "Q0vDn9pX6Va7"
      },
      "source": [
        "### *Model Training*"
      ]
    },
    {
      "cell_type": "markdown",
      "metadata": {
        "id": "37hj4hMrhwDG"
      },
      "source": [
        "We are changing loss function and check the performance of the model for comparison, we are going to try\n",
        "\n",
        " [`\"NLLLoss\", \"CrossEntropyLoss\"`] "
      ]
    },
    {
      "cell_type": "code",
      "metadata": {
        "id": "D7QxfYSXfTbD"
      },
      "source": [
        "loss_funcs = [\"NLLLoss\", \"CrossEntropyLoss\"]"
      ],
      "execution_count": null,
      "outputs": []
    },
    {
      "cell_type": "code",
      "metadata": {
        "id": "SbfLPT9PfTbF"
      },
      "source": [
        "input_size = 784\n",
        "hidden_sizes = [128, 64]\n",
        "output_size = 10\n",
        "lr = 0.003"
      ],
      "execution_count": null,
      "outputs": []
    },
    {
      "cell_type": "code",
      "metadata": {
        "id": "3wBseEIcfTbG",
        "outputId": "45eeffe7-8647-4519-c795-ce8379ab44d1",
        "colab": {
          "base_uri": "https://localhost:8080/",
          "height": 67
        }
      },
      "source": [
        "prams  = {\"total_time_for_training\": None,\n",
        "          \"loss_history\": None,\n",
        "          \"accuracy\": None}\n",
        "\n",
        "final_result_loss = {i: prams.copy() for i in loss_funcs}\n",
        "\n",
        "for c in loss_funcs:\n",
        "    \n",
        "    print(f\"For Loss Function : {c}\")\n",
        "    print(\"************************************************************\")\n",
        "    model = get_nn_model(hidden_sizes)\n",
        "    criterion = get_criterion(c)\n",
        "    model, total_time_for_training, loss_history = fit(model, lr, criterion)\n",
        "    accuracy = model_accuracy(valloader, model)\n",
        "    print(\"************************************************************\")\n",
        "    print(f\"Model Accuracy = {accuracy}\")\n",
        "\n",
        "\n",
        "    final_result_loss[c][\"total_time_for_training\"] = total_time_for_training\n",
        "    final_result_loss[c][\"loss_history\"] = loss_history\n",
        "    final_result_loss[c][\"accuracy\"] = accuracy\n",
        "    print(\"************************************************************\")\n"
      ],
      "execution_count": null,
      "outputs": [
        {
          "output_type": "stream",
          "text": [
            "For Loss Function : NLLLoss\n",
            "************************************************************\n",
            "Epoch 0 - Training loss: 0.620967006775489\n"
          ],
          "name": "stdout"
        }
      ]
    },
    {
      "cell_type": "markdown",
      "metadata": {
        "id": "VBwdFl-16LNj"
      },
      "source": [
        "### *Model Performance Chart with respect to different `loss functions`*"
      ]
    },
    {
      "cell_type": "code",
      "metadata": {
        "id": "OWlOMDYn0Qnu",
        "outputId": "3981c81a-5210-40fc-9a12-dcb117c7a17d",
        "colab": {
          "base_uri": "https://localhost:8080/",
          "height": 621
        }
      },
      "source": [
        "plt.figure(figsize=(10,10))\n",
        "loss_func = list(final_result_loss.keys())\n",
        "accuracy = [final_result_loss[i][\"accuracy\"] for i in final_result_loss]\n",
        "plt.bar(loss_func,accuracy, align='center')\n",
        "plt.title(\"Accuracy Comparion between different Loss Functions\")\n",
        "plt.xlabel(\"Loss Function\")\n",
        "plt.ylabel(\"Accuracy\")\n",
        "plt.show()"
      ],
      "execution_count": null,
      "outputs": [
        {
          "output_type": "display_data",
          "data": {
            "image/png": "[encoded data removed]",
            "text/plain": [
              "<Figure size 720x720 with 1 Axes>"
            ]
          },
          "metadata": {
            "tags": [],
            "needs_background": "light"
          }
        }
      ]
    },
    {
      "cell_type": "markdown",
      "metadata": {
        "id": "TDPCfduBridG"
      },
      "source": [
        "### *Conclusion*"
      ]
    },
    {
      "cell_type": "markdown",
      "metadata": {
        "id": "V-O3ZQR3q2OT"
      },
      "source": [
        "So, we can conclude that we dont see much difference between `NLLLoss` and `CrossEntropyLoss` in this case as the accuracy is almost same "
      ]
    },
    {
      "cell_type": "markdown",
      "metadata": {
        "id": "xYet-oUEfTbL"
      },
      "source": [
        "# (ii) Change in `learning rate`"
      ]
    },
    {
      "cell_type": "markdown",
      "metadata": {
        "id": "QHC3wtFO6ehb"
      },
      "source": [
        "### *Model Training*"
      ]
    },
    {
      "cell_type": "markdown",
      "metadata": {
        "id": "RyEqtJIkr7Km"
      },
      "source": [
        "We are changing learning rate and check the performance of the model for comparison, we are going to try\n",
        "\n",
        "[`0.003`, `0.001`, `0.01`, `0.1`]"
      ]
    },
    {
      "cell_type": "code",
      "metadata": {
        "id": "7FUP_kOafTbM"
      },
      "source": [
        "learning_rates = [0.003, 0.001, 0.01, 0.1]"
      ],
      "execution_count": null,
      "outputs": []
    },
    {
      "cell_type": "code",
      "metadata": {
        "id": "UlqUjNgxfTbN"
      },
      "source": [
        "input_size = 784\n",
        "hidden_sizes = [128, 64]\n",
        "output_size = 10\n",
        "loss_func = \"NLLLoss\""
      ],
      "execution_count": null,
      "outputs": []
    },
    {
      "cell_type": "code",
      "metadata": {
        "id": "l2vbEjzCfTbP",
        "outputId": "6acdfdf9-e857-4e88-c785-53ef58429879",
        "colab": {
          "base_uri": "https://localhost:8080/",
          "height": 1000
        }
      },
      "source": [
        "prams  = {\"total_time_for_training\": None,\n",
        "          \"loss_history\": None,\n",
        "          \"accuracy\": None}\n",
        "\n",
        "final_result_lr = {i: prams.copy() for i in learning_rates}\n",
        "\n",
        "for lr in learning_rates:\n",
        "    \n",
        "    print(f\"With Learning Rate : {lr}\")\n",
        "    print(\"************************************************************\")\n",
        "    model = get_nn_model(hidden_sizes)\n",
        "    criterion = get_criterion(loss_func)\n",
        "    model, total_time_for_training, loss_history = fit(model, lr, criterion)\n",
        "    accuracy = model_accuracy(valloader, model)\n",
        "    print(\"************************************************************\")\n",
        "    print(f\"Model Accuracy = {accuracy}\")\n",
        "\n",
        "\n",
        "    final_result_lr[lr][\"total_time_for_training\"] = total_time_for_training\n",
        "    final_result_lr[lr][\"loss_history\"] = loss_history\n",
        "    final_result_lr[lr][\"accuracy\"] = accuracy\n",
        "    print(\"************************************************************\")\n"
      ],
      "execution_count": null,
      "outputs": [
        {
          "output_type": "stream",
          "text": [
            "With Learning Rate : 0.003\n",
            "************************************************************\n",
            "Epoch 0 - Training loss: 0.6369445313776988\n",
            "Epoch 1 - Training loss: 0.27916013808456314\n",
            "Epoch 2 - Training loss: 0.21821103636215108\n",
            "Epoch 3 - Training loss: 0.17653551507892132\n",
            "Epoch 4 - Training loss: 0.14942852815966617\n",
            "Epoch 5 - Training loss: 0.12976469424094506\n",
            "Epoch 6 - Training loss: 0.11411274559517849\n",
            "Epoch 7 - Training loss: 0.10117376904521606\n",
            "Epoch 8 - Training loss: 0.09062673013581872\n",
            "Epoch 9 - Training loss: 0.08182383197715193\n",
            "Epoch 10 - Training loss: 0.07541089907868394\n",
            "Epoch 11 - Training loss: 0.06670111606020664\n",
            "Epoch 12 - Training loss: 0.0626553771580492\n",
            "Epoch 13 - Training loss: 0.05784159070521252\n",
            "Epoch 14 - Training loss: 0.05325065495154417\n",
            "\n",
            "Training Time (in minutes) = 2.5173097888628644\n",
            "************************************************************\n",
            "Model Accuracy = 0.9749\n",
            "************************************************************\n",
            "With Learning Rate : 0.001\n",
            "************************************************************\n",
            "Epoch 0 - Training loss: 1.166585306178278\n",
            "Epoch 1 - Training loss: 0.39355939494044795\n",
            "Epoch 2 - Training loss: 0.3284239467304907\n",
            "Epoch 3 - Training loss: 0.2973060222672247\n",
            "Epoch 4 - Training loss: 0.2737496708041188\n",
            "Epoch 5 - Training loss: 0.2530890086661778\n",
            "Epoch 6 - Training loss: 0.2338110038768381\n",
            "Epoch 7 - Training loss: 0.21545271103236593\n",
            "Epoch 8 - Training loss: 0.20003648701983728\n",
            "Epoch 9 - Training loss: 0.1843737480200843\n",
            "Epoch 10 - Training loss: 0.17116793548700207\n",
            "Epoch 11 - Training loss: 0.15989244941558475\n",
            "Epoch 12 - Training loss: 0.14977768061559465\n",
            "Epoch 13 - Training loss: 0.1405774029944815\n",
            "Epoch 14 - Training loss: 0.13241513371705882\n",
            "\n",
            "Training Time (in minutes) = 2.508766313393911\n",
            "************************************************************\n",
            "Model Accuracy = 0.9584\n",
            "************************************************************\n",
            "With Learning Rate : 0.01\n",
            "************************************************************\n",
            "Epoch 0 - Training loss: 0.43746652148727544\n",
            "Epoch 1 - Training loss: 0.17739544111663408\n",
            "Epoch 2 - Training loss: 0.12652280964731757\n",
            "Epoch 3 - Training loss: 0.10297911568904228\n",
            "Epoch 4 - Training loss: 0.08759982638415505\n",
            "Epoch 5 - Training loss: 0.07471915400390432\n",
            "Epoch 6 - Training loss: 0.06657784597264098\n",
            "Epoch 7 - Training loss: 0.058053803251761356\n",
            "Epoch 8 - Training loss: 0.054147742035091796\n",
            "Epoch 9 - Training loss: 0.04662511492597817\n",
            "Epoch 10 - Training loss: 0.04277286587995656\n",
            "Epoch 11 - Training loss: 0.03789504087092712\n",
            "Epoch 12 - Training loss: 0.03478426372233742\n",
            "Epoch 13 - Training loss: 0.030455277795639776\n",
            "Epoch 14 - Training loss: 0.02746666708602699\n",
            "\n",
            "Training Time (in minutes) = 2.51481808423996\n",
            "************************************************************\n",
            "Model Accuracy = 0.9766\n",
            "************************************************************\n",
            "With Learning Rate : 0.1\n",
            "************************************************************\n",
            "Epoch 0 - Training loss: 0.6975884044697798\n",
            "Epoch 1 - Training loss: 0.576230796518674\n",
            "Epoch 2 - Training loss: 0.8241539708713987\n",
            "Epoch 3 - Training loss: 0.9420584321085578\n",
            "Epoch 4 - Training loss: 1.1217541343876039\n",
            "Epoch 5 - Training loss: 1.3518103933664782\n",
            "Epoch 6 - Training loss: 1.4784772739227392\n",
            "Epoch 7 - Training loss: 1.4451463580258619\n",
            "Epoch 8 - Training loss: 1.9917080308328559\n",
            "Epoch 9 - Training loss: 2.297455584697886\n",
            "Epoch 10 - Training loss: 2.304921910198513\n",
            "Epoch 11 - Training loss: 2.305316462445615\n",
            "Epoch 12 - Training loss: 2.304725485569887\n",
            "Epoch 13 - Training loss: 2.304758751316111\n",
            "Epoch 14 - Training loss: 2.3048408300891867\n",
            "\n",
            "Training Time (in minutes) = 2.834584140777588\n",
            "************************************************************\n",
            "Model Accuracy = 0.1033\n",
            "************************************************************\n"
          ],
          "name": "stdout"
        }
      ]
    },
    {
      "cell_type": "markdown",
      "metadata": {
        "id": "qdUpgoUq6FOg"
      },
      "source": [
        "### *Model Performance Chart with respect to different `learning rates`*"
      ]
    },
    {
      "cell_type": "code",
      "metadata": {
        "id": "RQ7XIrdxvozD",
        "outputId": "2e6acfb4-18b6-4663-97a8-96266061603e",
        "colab": {
          "base_uri": "https://localhost:8080/",
          "height": 621
        }
      },
      "source": [
        "plt.figure(figsize=(10,10))\n",
        "lrs = list(final_result_lr.keys())\n",
        "accuracy = [final_result_lr[i][\"accuracy\"] for i in final_result_lr]\n",
        "plt.bar(lrs,accuracy, align='center', width=(lrs[1]-lrs[0])*.7)\n",
        "plt.title(\"Accuracy Comparion between Learning Rates\")\n",
        "plt.xlabel(\"Learning Rates\")\n",
        "plt.ylabel(\"Accuracy\")\n",
        "plt.show()"
      ],
      "execution_count": null,
      "outputs": [
        {
          "output_type": "display_data",
          "data": {
            "image/png": "[encoded data removed]",
            "text/plain": [
              "<Figure size 720x720 with 1 Axes>"
            ]
          },
          "metadata": {
            "tags": [],
            "needs_background": "light"
          }
        }
      ]
    },
    {
      "cell_type": "markdown",
      "metadata": {
        "id": "PJeO892Q1ExU"
      },
      "source": [
        "### *Conclusion*"
      ]
    },
    {
      "cell_type": "markdown",
      "metadata": {
        "id": "mztsNaaT1Lae"
      },
      "source": [
        "So, we can conclude that the model performs better when the learning rate is small, which is obvious. If the learning rate is large, then it will take large step and the gradient descent will be fast, but we might fail to reach the global minimum and become stuck at a local minimum. So,\n",
        "the learning rate should be chosen optimally and preferably small. Although very small, might take more time to converge and would need more epochs, so we need to callibrate the learning rate, w.r.t to the problem set and need to experiment a bit. \n",
        "\n",
        "Like in this problem, `learning rate` of around `0.01` performed well"
      ]
    },
    {
      "cell_type": "markdown",
      "metadata": {
        "id": "-H3O9hFPfTbV"
      },
      "source": [
        "# (iii) Change in Number of `hidden layers`\n"
      ]
    },
    {
      "cell_type": "markdown",
      "metadata": {
        "id": "h7PAEOA66ofT"
      },
      "source": [
        "### *Model Training*"
      ]
    },
    {
      "cell_type": "markdown",
      "metadata": {
        "id": "6dZP9Hai3tM-"
      },
      "source": [
        "We are changing no. of hidden layers and check the performance of the model for comparison, we are going to try with `2, 3 and 4` hidden layers\n",
        "\n"
      ]
    },
    {
      "cell_type": "code",
      "metadata": {
        "id": "HnISSNb1fTbW"
      },
      "source": [
        "no_hidden_layers = {2: [128, 64],\n",
        "                    3: [128, 64, 32],\n",
        "                    4: [128, 64, 32, 16]}"
      ],
      "execution_count": null,
      "outputs": []
    },
    {
      "cell_type": "code",
      "metadata": {
        "id": "HX_2HzoyfTbX"
      },
      "source": [
        "input_size = 784\n",
        "output_size = 10\n",
        "loss_func = \"NLLLoss\"\n",
        "lr = 0.003"
      ],
      "execution_count": null,
      "outputs": []
    },
    {
      "cell_type": "code",
      "metadata": {
        "id": "rRp-qIx_fTbZ",
        "outputId": "4f094622-cc3a-4b03-c59d-a32853916dd8",
        "colab": {
          "base_uri": "https://localhost:8080/",
          "height": 1000
        }
      },
      "source": [
        "prams  = {\"total_time_for_training\": None,\n",
        "          \"loss_history\": None,\n",
        "          \"accuracy\": None}\n",
        "\n",
        "final_result_h_layer = {i: prams.copy() for i in no_hidden_layers.keys()}\n",
        "\n",
        "for hl in no_hidden_layers.keys():\n",
        "    \n",
        "    print(f\"With {hl} no. of Hidden Layers, having {no_hidden_layers[hl]} neurons respectively\")\n",
        "    print(\"***********************************************************************\")\n",
        "    model = get_nn_model(no_hidden_layers[hl])\n",
        "    criterion = get_criterion(loss_func)\n",
        "    model, total_time_for_training, loss_history = fit(model, lr, criterion)\n",
        "    accuracy = model_accuracy(valloader, model)\n",
        "    print(\"***********************************************************************\")\n",
        "    print(f\"Model Accuracy = {accuracy}\")\n",
        "\n",
        "\n",
        "    final_result_h_layer[hl][\"total_time_for_training\"] = total_time_for_training\n",
        "    final_result_h_layer[hl][\"loss_history\"] = loss_history\n",
        "    final_result_h_layer[hl][\"accuracy\"] = accuracy\n",
        "    print(\"***********************************************************************\")\n"
      ],
      "execution_count": null,
      "outputs": [
        {
          "output_type": "stream",
          "text": [
            "With 2 no. of Hidden Layers, having [128, 64] neurons respectively\n",
            "***********************************************************************\n",
            "Epoch 0 - Training loss: 0.6342693597777311\n",
            "Epoch 1 - Training loss: 0.28277023827661074\n",
            "Epoch 2 - Training loss: 0.217228022396072\n",
            "Epoch 3 - Training loss: 0.17447901809258437\n",
            "Epoch 4 - Training loss: 0.14378185920329936\n",
            "Epoch 5 - Training loss: 0.12350368756912093\n",
            "Epoch 6 - Training loss: 0.10675326360663626\n",
            "Epoch 7 - Training loss: 0.09480257369260163\n",
            "Epoch 8 - Training loss: 0.08494955599695238\n",
            "Epoch 9 - Training loss: 0.07673131938038795\n",
            "Epoch 10 - Training loss: 0.07027431730496715\n",
            "Epoch 11 - Training loss: 0.0639066180538958\n",
            "Epoch 12 - Training loss: 0.05877614974492053\n",
            "Epoch 13 - Training loss: 0.05391770019195974\n",
            "Epoch 14 - Training loss: 0.05010472936456455\n",
            "\n",
            "Training Time (in minutes) = 2.5153718113899233\n",
            "***********************************************************************\n",
            "Model Accuracy = 0.9746\n",
            "***********************************************************************\n",
            "With 3 no. of Hidden Layers, having [128, 64, 32] neurons respectively\n",
            "***********************************************************************\n",
            "Epoch 0 - Training loss: 0.8278428171393968\n",
            "Epoch 1 - Training loss: 0.2840761969656324\n",
            "Epoch 2 - Training loss: 0.21416802270246593\n",
            "Epoch 3 - Training loss: 0.17039065763576708\n",
            "Epoch 4 - Training loss: 0.14226745162159204\n",
            "Epoch 5 - Training loss: 0.12118058712052893\n",
            "Epoch 6 - Training loss: 0.10483066328981919\n",
            "Epoch 7 - Training loss: 0.09277500201469419\n",
            "Epoch 8 - Training loss: 0.08355583370313731\n",
            "Epoch 9 - Training loss: 0.07356960135700702\n",
            "Epoch 10 - Training loss: 0.06700060904613817\n",
            "Epoch 11 - Training loss: 0.060440922966663806\n",
            "Epoch 12 - Training loss: 0.0568145032229174\n",
            "Epoch 13 - Training loss: 0.05243855360165628\n",
            "Epoch 14 - Training loss: 0.04826984047775032\n",
            "\n",
            "Training Time (in minutes) = 2.5291628797849017\n",
            "***********************************************************************\n",
            "Model Accuracy = 0.9745\n",
            "***********************************************************************\n",
            "With 4 no. of Hidden Layers, having [128, 64, 32, 16] neurons respectively\n",
            "***********************************************************************\n",
            "Epoch 0 - Training loss: 1.3099847132367874\n",
            "Epoch 1 - Training loss: 0.3646214427724322\n",
            "Epoch 2 - Training loss: 0.2252922778778366\n",
            "Epoch 3 - Training loss: 0.1708113595184042\n",
            "Epoch 4 - Training loss: 0.13926642253272123\n",
            "Epoch 5 - Training loss: 0.11896792068771685\n",
            "Epoch 6 - Training loss: 0.10614413900304832\n",
            "Epoch 7 - Training loss: 0.09373779517900287\n",
            "Epoch 8 - Training loss: 0.08156646952988195\n",
            "Epoch 9 - Training loss: 0.07410930472139174\n",
            "Epoch 10 - Training loss: 0.06746096960055445\n",
            "Epoch 11 - Training loss: 0.06248514417872659\n",
            "Epoch 12 - Training loss: 0.05561118246491022\n",
            "Epoch 13 - Training loss: 0.05195757502100186\n",
            "Epoch 14 - Training loss: 0.04534739750657858\n",
            "\n",
            "Training Time (in minutes) = 2.574802343050639\n",
            "***********************************************************************\n",
            "Model Accuracy = 0.974\n",
            "***********************************************************************\n"
          ],
          "name": "stdout"
        }
      ]
    },
    {
      "cell_type": "markdown",
      "metadata": {
        "id": "sgqNxioM5slP"
      },
      "source": [
        "### *Model Performance Chart with respect to different `hidden layers`*"
      ]
    },
    {
      "cell_type": "code",
      "metadata": {
        "id": "RoO8FyAy4PPJ",
        "outputId": "9fc5cdae-70a1-4210-badd-201609f191f9",
        "colab": {
          "base_uri": "https://localhost:8080/",
          "height": 621
        }
      },
      "source": [
        "plt.figure(figsize=(10,10))\n",
        "hly = list(final_result_h_layer.keys())\n",
        "accuracy = [final_result_h_layer[i][\"accuracy\"] for i in final_result_h_layer]\n",
        "plt.bar(hly,accuracy, align='center')\n",
        "plt.title(\"Accuracy Comparion between different Hidden Layers\")\n",
        "plt.xlabel(\"No. Hidden Layers\")\n",
        "plt.ylabel(\"Accuracy\")\n",
        "plt.show()"
      ],
      "execution_count": null,
      "outputs": [
        {
          "output_type": "display_data",
          "data": {
            "image/png": "[encoded data removed]",
            "text/plain": [
              "<Figure size 720x720 with 1 Axes>"
            ]
          },
          "metadata": {
            "tags": [],
            "needs_background": "light"
          }
        }
      ]
    },
    {
      "cell_type": "markdown",
      "metadata": {
        "id": "Sb7BdMMW5D5a"
      },
      "source": [
        "### *Conclusion*"
      ]
    },
    {
      "cell_type": "markdown",
      "metadata": {
        "id": "a1lY8Ong5Inn"
      },
      "source": [
        "For this problem set, we didnt see any difference w.r.t no. of hidden layers as such, although no. of hidden layers and no. of neurons in each hidden layers are important parameters to look for while training any NN, and subject to experiments and experience. We did not try different combinations but with the few different combinations we tested as above, we do not see much of a different in model performance"
      ]
    }
  ]
}